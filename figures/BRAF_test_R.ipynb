{
 "cells": [
  {
   "cell_type": "code",
   "execution_count": 1,
   "metadata": {
    "vscode": {
     "languageId": "r"
    }
   },
   "outputs": [
    {
     "name": "stderr",
     "output_type": "stream",
     "text": [
      "\n",
      "Attaching package: ‘dplyr’\n",
      "\n",
      "\n",
      "The following objects are masked from ‘package:stats’:\n",
      "\n",
      "    filter, lag\n",
      "\n",
      "\n",
      "The following objects are masked from ‘package:base’:\n",
      "\n",
      "    intersect, setdiff, setequal, union\n",
      "\n",
      "\n",
      "── \u001b[1mAttaching core tidyverse packages\u001b[22m ──────────────────────── tidyverse 2.0.0 ──\n",
      "\u001b[32m✔\u001b[39m \u001b[34mforcats  \u001b[39m 1.0.0     \u001b[32m✔\u001b[39m \u001b[34mstringr  \u001b[39m 1.5.1\n",
      "\u001b[32m✔\u001b[39m \u001b[34mggplot2  \u001b[39m 3.5.1     \u001b[32m✔\u001b[39m \u001b[34mtibble   \u001b[39m 3.2.1\n",
      "\u001b[32m✔\u001b[39m \u001b[34mlubridate\u001b[39m 1.9.3     \u001b[32m✔\u001b[39m \u001b[34mtidyr    \u001b[39m 1.3.1\n",
      "\u001b[32m✔\u001b[39m \u001b[34mpurrr    \u001b[39m 1.0.4     \n",
      "── \u001b[1mConflicts\u001b[22m ────────────────────────────────────────── tidyverse_conflicts() ──\n",
      "\u001b[31m✖\u001b[39m \u001b[34mdplyr\u001b[39m::\u001b[32mfilter()\u001b[39m masks \u001b[34mstats\u001b[39m::filter()\n",
      "\u001b[31m✖\u001b[39m \u001b[34mdplyr\u001b[39m::\u001b[32mlag()\u001b[39m    masks \u001b[34mstats\u001b[39m::lag()\n",
      "\u001b[36mℹ\u001b[39m Use the conflicted package (\u001b[3m\u001b[34m<http://conflicted.r-lib.org/>\u001b[39m\u001b[23m) to force all conflicts to become errors\n"
     ]
    }
   ],
   "source": [
    "library(readr)\n",
    "library(readxl)\n",
    "library(dplyr)\n",
    "library(tidyverse)"
   ]
  },
  {
   "cell_type": "code",
   "execution_count": 2,
   "metadata": {
    "vscode": {
     "languageId": "r"
    }
   },
   "outputs": [],
   "source": [
    "options(repr.plot.width = 20, repr.plot.height = 10)"
   ]
  },
  {
   "cell_type": "code",
   "execution_count": 3,
   "metadata": {
    "vscode": {
     "languageId": "r"
    }
   },
   "outputs": [],
   "source": [
    "library(fgsea)\n",
    "get_gsea <- function(df) {\n",
    "  df <- df %>% drop_na()\n",
    "  # Ensure gene names are rownames and vector is a matrix\n",
    "  gene_vec <- df$fold_change\n",
    "  names(gene_vec) <- df$gene\n",
    "\n",
    "  # Wrap into a matrix for GSVA (genes x samples)\n",
    "  # Read GMT\n",
    "  gmt <- gmtPathways(\"mapk.gmt\")\n",
    "\n",
    "  # Run ssGSEA\n",
    "  ss <- fgsea(stats = gene_vec, pathways = gmt)\n",
    "\n",
    "  # Return as data frame\n",
    "  ss_df <- as.data.frame((ss))\n",
    "  return(ss_df)\n",
    "}\n"
   ]
  },
  {
   "cell_type": "code",
   "execution_count": 4,
   "metadata": {
    "vscode": {
     "languageId": "r"
    }
   },
   "outputs": [
    {
     "name": "stderr",
     "output_type": "stream",
     "text": [
      "\u001b[1mRows: \u001b[22m\u001b[34m6000\u001b[39m \u001b[1mColumns: \u001b[22m\u001b[34m10\u001b[39m\n",
      "\u001b[36m──\u001b[39m \u001b[1mColumn specification\u001b[22m \u001b[36m────────────────────────────────────────────────────────\u001b[39m\n",
      "\u001b[1mDelimiter:\u001b[22m \",\"\n",
      "\u001b[31mchr\u001b[39m (2): target, reference\n",
      "\u001b[32mdbl\u001b[39m (8): feature, target_mean, reference_mean, percent_change, fold_change, ...\n",
      "\n",
      "\u001b[36mℹ\u001b[39m Use `spec()` to retrieve the full column specification for this data.\n",
      "\u001b[36mℹ\u001b[39m Specify the column types or set `show_col_types = FALSE` to quiet this message.\n",
      "\u001b[1mRows: \u001b[22m\u001b[34m6000\u001b[39m \u001b[1mColumns: \u001b[22m\u001b[34m10\u001b[39m\n",
      "\u001b[36m──\u001b[39m \u001b[1mColumn specification\u001b[22m \u001b[36m────────────────────────────────────────────────────────\u001b[39m\n",
      "\u001b[1mDelimiter:\u001b[22m \",\"\n",
      "\u001b[31mchr\u001b[39m (2): target, reference\n",
      "\u001b[32mdbl\u001b[39m (8): feature, target_mean, reference_mean, percent_change, fold_change, ...\n",
      "\n",
      "\u001b[36mℹ\u001b[39m Use `spec()` to retrieve the full column specification for this data.\n",
      "\u001b[36mℹ\u001b[39m Specify the column types or set `show_col_types = FALSE` to quiet this message.\n",
      "\u001b[1mRows: \u001b[22m\u001b[34m6000\u001b[39m \u001b[1mColumns: \u001b[22m\u001b[34m10\u001b[39m\n",
      "\u001b[36m──\u001b[39m \u001b[1mColumn specification\u001b[22m \u001b[36m────────────────────────────────────────────────────────\u001b[39m\n",
      "\u001b[1mDelimiter:\u001b[22m \",\"\n",
      "\u001b[31mchr\u001b[39m (2): target, reference\n",
      "\u001b[32mdbl\u001b[39m (8): feature, target_mean, reference_mean, percent_change, fold_change, ...\n",
      "\n",
      "\u001b[36mℹ\u001b[39m Use `spec()` to retrieve the full column specification for this data.\n",
      "\u001b[36mℹ\u001b[39m Specify the column types or set `show_col_types = FALSE` to quiet this message.\n",
      "\u001b[1mRows: \u001b[22m\u001b[34m6000\u001b[39m \u001b[1mColumns: \u001b[22m\u001b[34m10\u001b[39m\n",
      "\u001b[36m──\u001b[39m \u001b[1mColumn specification\u001b[22m \u001b[36m────────────────────────────────────────────────────────\u001b[39m\n",
      "\u001b[1mDelimiter:\u001b[22m \",\"\n",
      "\u001b[31mchr\u001b[39m (2): target, reference\n",
      "\u001b[32mdbl\u001b[39m (8): feature, target_mean, reference_mean, percent_change, fold_change, ...\n",
      "\n",
      "\u001b[36mℹ\u001b[39m Use `spec()` to retrieve the full column specification for this data.\n",
      "\u001b[36mℹ\u001b[39m Specify the column types or set `show_col_types = FALSE` to quiet this message.\n"
     ]
    }
   ],
   "source": [
    "predicted1 <- read_csv(\"C32_pred_de.csv\")\n",
    "predicted2 <- read_csv(\"SK-MEL-2_pred_de.csv\")\n",
    "predicted1$cell_line <- 'C32'\n",
    "predicted2$cell_line <- 'SK-MEL-2'\n",
    "predicted <- bind_rows(predicted1, predicted2)\n",
    "ground_truth1 <- read_csv(\"C32_real_de.csv\")\n",
    "ground_truth2 <- read_csv(\"SK-MEL-2_real_de.csv\")\n",
    "ground_truth1$cell_line <- 'C32'\n",
    "ground_truth2$cell_line <- 'SK-MEL-2'\n",
    "ground_truth <- bind_rows(ground_truth1, ground_truth2)"
   ]
  },
  {
   "cell_type": "code",
   "execution_count": 5,
   "metadata": {
    "vscode": {
     "languageId": "r"
    }
   },
   "outputs": [],
   "source": [
    "library(reticulate)\n",
    "library(dplyr)\n",
    "\n",
    "# Load numpy and the .npy file\n",
    "np <- import(\"numpy\")\n",
    "gene_names <- np$load(\"/large_storage/ctc/userspace/aadduri/datasets/tahoe_19k_to_2k_names.npy\", allow_pickle = TRUE)\n",
    "# Convert to R character vector\n",
    "gene_names <- as.character(gene_names)\n",
    "# Create a data frame mapping index to gene name\n",
    "gene_map <- tibble(\n",
    "  feature = seq_along(gene_names) - 1,  # Python 0-based index\n",
    "  gene = gene_names\n",
    ")\n",
    "# Join with your predicted data frame\n",
    "predicted <- predicted %>%\n",
    "  left_join(gene_map, by = \"feature\")\n",
    "ground_truth<- ground_truth %>%\n",
    "  left_join(gene_map, by = \"feature\")\n"
   ]
  },
  {
   "cell_type": "code",
   "execution_count": 6,
   "metadata": {
    "vscode": {
     "languageId": "r"
    }
   },
   "outputs": [
    {
     "name": "stderr",
     "output_type": "stream",
     "text": [
      "Warning message in preparePathwaysAndStats(pathways, stats, minSize, maxSize, gseaParam, :\n",
      "“There are ties in the preranked stats (13.09% of the list).\n",
      "The order of those tied genes will be arbitrary, which may produce unexpected results.”\n",
      "Warning message in fgseaMultilevel(pathways = pathways, stats = stats, minSize = minSize, :\n",
      "“There were 1 pathways for which P-values were not calculated properly due to unbalanced (positive and negative) gene-level statistic values. For such pathways pval, padj, NES, log2err are set to NA. You can try to increase the value of the argument nPermSimple (for example set it nPermSimple = 10000)”\n",
      "Warning message in fgseaMultilevel(pathways = pathways, stats = stats, minSize = minSize, :\n",
      "“For some pathways, in reality P-values are less than 1e-50. You can set the `eps` argument to zero for better estimation.”\n",
      "Warning message in preparePathwaysAndStats(pathways, stats, minSize, maxSize, gseaParam, :\n",
      "“There are ties in the preranked stats (17.1% of the list).\n",
      "The order of those tied genes will be arbitrary, which may produce unexpected results.”\n",
      "Warning message in preparePathwaysAndStats(pathways, stats, minSize, maxSize, gseaParam, :\n",
      "“There are ties in the preranked stats (11.78% of the list).\n",
      "The order of those tied genes will be arbitrary, which may produce unexpected results.”\n",
      "Warning message in fgseaMultilevel(pathways = pathways, stats = stats, minSize = minSize, :\n",
      "“For some of the pathways the P-values were likely overestimated. For such pathways log2err is set to NA.”\n",
      "Warning message in preparePathwaysAndStats(pathways, stats, minSize, maxSize, gseaParam, :\n",
      "“There are ties in the preranked stats (12.19% of the list).\n",
      "The order of those tied genes will be arbitrary, which may produce unexpected results.”\n",
      "Warning message in fgseaMultilevel(pathways = pathways, stats = stats, minSize = minSize, :\n",
      "“For some pathways, in reality P-values are less than 1e-50. You can set the `eps` argument to zero for better estimation.”\n",
      "Warning message in preparePathwaysAndStats(pathways, stats, minSize, maxSize, gseaParam, :\n",
      "“There are ties in the preranked stats (13.18% of the list).\n",
      "The order of those tied genes will be arbitrary, which may produce unexpected results.”\n",
      "Warning message in preparePathwaysAndStats(pathways, stats, minSize, maxSize, gseaParam, :\n",
      "“There are ties in the preranked stats (10.88% of the list).\n",
      "The order of those tied genes will be arbitrary, which may produce unexpected results.”\n",
      "Warning message in fgseaMultilevel(pathways = pathways, stats = stats, minSize = minSize, :\n",
      "“There were 1 pathways for which P-values were not calculated properly due to unbalanced (positive and negative) gene-level statistic values. For such pathways pval, padj, NES, log2err are set to NA. You can try to increase the value of the argument nPermSimple (for example set it nPermSimple = 10000)”\n",
      "Warning message in fgseaMultilevel(pathways = pathways, stats = stats, minSize = minSize, :\n",
      "“For some pathways, in reality P-values are less than 1e-50. You can set the `eps` argument to zero for better estimation.”\n"
     ]
    }
   ],
   "source": [
    "\n",
    "\n",
    "grounds_gsea <- ground_truth %>%\n",
    "  group_by(cell_line, target) %>%\n",
    "  group_split() %>%\n",
    "  map_dfr(function(df_group) {\n",
    "    gsea_res <- get_gsea(df_group)\n",
    "    gsea_res$cell_line <- unique(df_group$cell_line)\n",
    "    gsea_res$target <- unique(df_group$target)\n",
    "    gsea_res\n",
    "  })"
   ]
  },
  {
   "cell_type": "code",
   "execution_count": 7,
   "metadata": {
    "vscode": {
     "languageId": "r"
    }
   },
   "outputs": [
    {
     "name": "stderr",
     "output_type": "stream",
     "text": [
      "Warning message in preparePathwaysAndStats(pathways, stats, minSize, maxSize, gseaParam, :\n",
      "“There are ties in the preranked stats (7.02% of the list).\n",
      "The order of those tied genes will be arbitrary, which may produce unexpected results.”\n",
      "Warning message in fgseaMultilevel(pathways = pathways, stats = stats, minSize = minSize, :\n",
      "“For some of the pathways the P-values were likely overestimated. For such pathways log2err is set to NA.”\n",
      "Warning message in fgseaMultilevel(pathways = pathways, stats = stats, minSize = minSize, :\n",
      "“For some pathways, in reality P-values are less than 1e-50. You can set the `eps` argument to zero for better estimation.”\n",
      "Warning message in preparePathwaysAndStats(pathways, stats, minSize, maxSize, gseaParam, :\n",
      "“There are ties in the preranked stats (5.43% of the list).\n",
      "The order of those tied genes will be arbitrary, which may produce unexpected results.”\n",
      "Warning message in fgseaMultilevel(pathways = pathways, stats = stats, minSize = minSize, :\n",
      "“For some pathways, in reality P-values are less than 1e-50. You can set the `eps` argument to zero for better estimation.”\n",
      "Warning message in preparePathwaysAndStats(pathways, stats, minSize, maxSize, gseaParam, :\n",
      "“There are ties in the preranked stats (2.77% of the list).\n",
      "The order of those tied genes will be arbitrary, which may produce unexpected results.”\n",
      "Warning message in fgseaMultilevel(pathways = pathways, stats = stats, minSize = minSize, :\n",
      "“There were 3 pathways for which P-values were not calculated properly due to unbalanced (positive and negative) gene-level statistic values. For such pathways pval, padj, NES, log2err are set to NA. You can try to increase the value of the argument nPermSimple (for example set it nPermSimple = 10000)”\n",
      "Warning message in fgseaMultilevel(pathways = pathways, stats = stats, minSize = minSize, :\n",
      "“For some pathways, in reality P-values are less than 1e-50. You can set the `eps` argument to zero for better estimation.”\n",
      "Warning message in preparePathwaysAndStats(pathways, stats, minSize, maxSize, gseaParam, :\n",
      "“There are ties in the preranked stats (4.01% of the list).\n",
      "The order of those tied genes will be arbitrary, which may produce unexpected results.”\n",
      "Warning message in fgseaMultilevel(pathways = pathways, stats = stats, minSize = minSize, :\n",
      "“For some pathways, in reality P-values are less than 1e-50. You can set the `eps` argument to zero for better estimation.”\n",
      "Warning message in preparePathwaysAndStats(pathways, stats, minSize, maxSize, gseaParam, :\n",
      "“There are ties in the preranked stats (7.82% of the list).\n",
      "The order of those tied genes will be arbitrary, which may produce unexpected results.”\n",
      "Warning message in fgseaMultilevel(pathways = pathways, stats = stats, minSize = minSize, :\n",
      "“There were 1 pathways for which P-values were not calculated properly due to unbalanced (positive and negative) gene-level statistic values. For such pathways pval, padj, NES, log2err are set to NA. You can try to increase the value of the argument nPermSimple (for example set it nPermSimple = 10000)”\n",
      "Warning message in fgseaMultilevel(pathways = pathways, stats = stats, minSize = minSize, :\n",
      "“For some pathways, in reality P-values are less than 1e-50. You can set the `eps` argument to zero for better estimation.”\n",
      "Warning message in preparePathwaysAndStats(pathways, stats, minSize, maxSize, gseaParam, :\n",
      "“There are ties in the preranked stats (3.24% of the list).\n",
      "The order of those tied genes will be arbitrary, which may produce unexpected results.”\n",
      "Warning message in fgseaMultilevel(pathways = pathways, stats = stats, minSize = minSize, :\n",
      "“There were 1 pathways for which P-values were not calculated properly due to unbalanced (positive and negative) gene-level statistic values. For such pathways pval, padj, NES, log2err are set to NA. You can try to increase the value of the argument nPermSimple (for example set it nPermSimple = 10000)”\n",
      "Warning message in fgseaMultilevel(pathways = pathways, stats = stats, minSize = minSize, :\n",
      "“For some pathways, in reality P-values are less than 1e-50. You can set the `eps` argument to zero for better estimation.”\n"
     ]
    }
   ],
   "source": [
    "predicted_gsea <- predicted %>%\n",
    "  group_by(cell_line, target) %>%\n",
    "  group_split() %>%\n",
    "  map_dfr(function(df_group) {\n",
    "    gsea_res <- get_gsea(df_group)\n",
    "    gsea_res$cell_line <- unique(df_group$cell_line)\n",
    "    gsea_res$target <- unique(df_group$target)\n",
    "    gsea_res\n",
    "  })"
   ]
  },
  {
   "cell_type": "code",
   "execution_count": 8,
   "metadata": {
    "vscode": {
     "languageId": "r"
    }
   },
   "outputs": [],
   "source": [
    "merged <- merge(predicted_gsea, grounds_gsea, by = c('cell_line', 'target', 'pathway'), suffixes = c('predicted', 'truth'))\n",
    "merged$cell_line <- ifelse(merged$cell_line == 'C32', 'C32 - BRAF v600E mutant Melanoma', 'SK-MEL-2 - W.T. BRAF melanoma')"
   ]
  },
  {
   "cell_type": "code",
   "execution_count": 9,
   "metadata": {
    "vscode": {
     "languageId": "r"
    }
   },
   "outputs": [],
   "source": [
    "merged <- merged %>% pivot_longer(c('NESpredicted', 'NEStruth')) %>% as.data.frame()\n",
    "merged$name <- ifelse(merged$name == 'NESpredicted', 'Predicted Normalized Enrichment', 'True normalized enrichment')"
   ]
  },
  {
   "cell_type": "code",
   "execution_count": 10,
   "metadata": {
    "vscode": {
     "languageId": "r"
    }
   },
   "outputs": [],
   "source": [
    "pathway <- c('REACTOME_ONCOGENIC_MAPK_SIGNALING' )"
   ]
  },
  {
   "cell_type": "code",
   "execution_count": null,
   "metadata": {
    "vscode": {
     "languageId": "r"
    }
   },
   "outputs": [],
   "source": [
    " library(dplyr)\n",
    "library(ggplot2)\n",
    "\n",
    "# Step 1: Get significant MAPK pathways\n",
    "\n",
    "# Step 2: Plot\n",
    "#We only care about the largest dose, hence the grepl\n",
    "p <-ggplot(\n",
    "  merged %>% filter(pathway %in% pathway, grepl('5.0', target)),\n",
    "  aes(x = cell_line, y = value, color = target)\n",
    ") +\n",
    "  facet_grid(rows = vars(pathway), cols = vars(name)) +\n",
    "  ylab('Enrichment of \"REACTOME_ONCOGENIC_MAPK_SIGNALING\" relative to DMSO') +\n",
    "  theme_bw() +\n",
    "  geom_point() +\n",
    "  geom_hline(yintercept = 0, linetype = \"dashed\")\n",
    "print(p)\n"
   ]
  },
  {
   "cell_type": "markdown",
   "metadata": {},
   "source": [
    "The geom text and geom hline dont play well with adobe, so saving a pdf without it"
   ]
  },
  {
   "cell_type": "code",
   "execution_count": 13,
   "metadata": {
    "vscode": {
     "languageId": "r"
    }
   },
   "outputs": [],
   "source": [
    "p <-ggplot(\n",
    "  merged %>% filter(pathway %in% pathway, grepl('5.0', target)),\n",
    "  aes(x = cell_line, y = value, color = target)\n",
    ") +\n",
    "  facet_grid(rows = vars(pathway), cols = vars(name)) +\n",
    "  ylab('Enrichment of \"REACTOME_ONCOGENIC_MAPK_SIGNALING\" relative to DMSO') +\n",
    "  theme_bw() +\n",
    "  geom_point() \n"
   ]
  },
  {
   "cell_type": "code",
   "execution_count": 14,
   "metadata": {
    "vscode": {
     "languageId": "r"
    }
   },
   "outputs": [
    {
     "name": "stderr",
     "output_type": "stream",
     "text": [
      "\u001b[1m\u001b[22mSaving 7 x 7 in image\n"
     ]
    },
    {
     "name": "stderr",
     "output_type": "stream",
     "text": [
      "Warning message:\n",
      "“\u001b[1m\u001b[22mRemoved 5 rows containing missing values or values outside the scale range\n",
      "(`geom_point()`).”\n"
     ]
    }
   ],
   "source": [
    "ggsave('BRAF_predicted_gene_set_nohline.pdf', p)"
   ]
  },
  {
   "cell_type": "code",
   "execution_count": null,
   "metadata": {
    "vscode": {
     "languageId": "r"
    }
   },
   "outputs": [],
   "source": []
  },
  {
   "cell_type": "code",
   "execution_count": null,
   "metadata": {
    "vscode": {
     "languageId": "r"
    }
   },
   "outputs": [],
   "source": []
  }
 ],
 "metadata": {
  "kernelspec": {
   "display_name": "R",
   "language": "R",
   "name": "ir"
  },
  "language_info": {
   "codemirror_mode": "r",
   "file_extension": ".r",
   "mimetype": "text/x-r-source",
   "name": "R",
   "pygments_lexer": "r",
   "version": "4.3.3"
  }
 },
 "nbformat": 4,
 "nbformat_minor": 2
}
