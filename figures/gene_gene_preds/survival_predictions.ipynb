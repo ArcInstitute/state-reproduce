{
 "cells": [
  {
   "cell_type": "code",
   "execution_count": 1,
   "metadata": {},
   "outputs": [
    {
     "name": "stderr",
     "output_type": "stream",
     "text": [
      "/home/cachris/.conda/envs/sc-env4/lib/python3.12/site-packages/scanpy/_utils/__init__.py:27: FutureWarning: `__version__` is deprecated, use `importlib.metadata.version('anndata')` instead.\n",
      "  from anndata import __version__ as anndata_version\n",
      "/home/cachris/.conda/envs/sc-env4/lib/python3.12/site-packages/scanpy/__init__.py:36: FutureWarning: `__version__` is deprecated, use `importlib.metadata.version('anndata')` instead.\n",
      "  if Version(anndata.__version__) >= Version(\"0.11.0rc2\"):\n",
      "/home/cachris/.conda/envs/sc-env4/lib/python3.12/site-packages/scanpy/readwrite.py:15: FutureWarning: `__version__` is deprecated, use `importlib.metadata.version('anndata')` instead.\n",
      "  if Version(anndata.__version__) >= Version(\"0.11.0rc2\"):\n"
     ]
    }
   ],
   "source": [
    "import os\n",
    "os.environ[\"JAX_PLATFORM_NAME\"] = \"cpu\"\n",
    "import scanpy as sc\n",
    "import pandas as pd\n",
    "import seaborn as sns\n",
    "import numpy as np\n",
    "import scipy\n",
    "import jax.numpy as jnp\n",
    "import xgboost as xgb\n",
    "import jax\n",
    "from sklearn.decomposition import PCA\n",
    "import matplotlib.pyplot as plt\n",
    "import numpy as np\n",
    "import anndata"
   ]
  },
  {
   "cell_type": "code",
   "execution_count": 2,
   "metadata": {},
   "outputs": [],
   "source": [
    "import os\n",
    "os.environ[\"JAX_PLATFORM_NAME\"] = \"cpu\""
   ]
  },
  {
   "cell_type": "code",
   "execution_count": 5,
   "metadata": {},
   "outputs": [],
   "source": [
    "def get_pert_vectors(adata, cell_line_key = 'cell_name', drug_key = 'drugname_drugconc', control_treatment =\"[('DMSO_TF', 0.0, 'uM')]\" ):\n",
    "    # Extract metadata and group labels\n",
    "    meta_df = adata.obs[[cell_line_key, drug_key ]].copy()\n",
    "    meta_df['group'] = meta_df[cell_line_key].astype(str) + '|' + meta_df[drug_key].astype(str)\n",
    "    # Map groups to integer indices\n",
    "   \n",
    "    group_idx, unique_groups = pd.factorize(meta_df['group'])\n",
    "    # Then run your code\n",
    "    # Extract metadata and group labels\n",
    "    meta_df = adata.obs[[cell_line_key,  drug_key ]].copy()\n",
    "    meta_df['group'] = meta_df[cell_line_key].astype(str) + '|' + meta_df[drug_key ].astype(str)\n",
    "    adata.obs['group'] = adata.obs[cell_line_key].astype(str) + '|' + adata.obs[drug_key ].astype(str)\n",
    "    print('here')\n",
    "    # Map groups to integer indices\n",
    "    group_idx, unique_groups = pd.factorize(meta_df['group'])\n",
    "    # X_jax: (n_cells, n_dims)\n",
    "    # group_idx: int array of length n_cells (e.g., from pd.factorize)\n",
    "    X_jax = jnp.array(adata.X.astype('float32'))\n",
    "    print('here')\n",
    "    group_idx = jnp.array(group_idx)\n",
    "    n_groups = len(unique_groups)\n",
    "    sums = jax.ops.segment_sum(X_jax, group_idx, n_groups)\n",
    "    counts = jax.ops.segment_sum(jnp.ones((X_jax.shape[0], 1)), group_idx, n_groups)\n",
    "    centroids = sums / counts\n",
    "    # Back to Pandas to identify DMSO indices\n",
    "    group_labels = pd.Series(unique_groups)\n",
    "    cell_types = group_labels.str.split('|').str[0]\n",
    "    perts = group_labels.str.split('|').str[1]\n",
    "\n",
    "    # Find the index of each DMSO centroid by cell_type\n",
    "    dmso_idx = (perts == control_treatment)\n",
    "\n",
    "    # Convert boolean mask to indices for JAX\n",
    "    dmso_indices = np.where(dmso_idx.values)[0]  # Convert pandas boolean to JAX indices\n",
    "    dmso_centroids = centroids[dmso_indices]\n",
    "\n",
    "    # Match non-DMSO centroids to their corresponding DMSO by cell_type\n",
    "    pert_indices = np.where(~dmso_idx.values)[0]  # Also convert this to JAX indices\n",
    "    pert_cell_types = cell_types[~dmso_idx].values\n",
    "\n",
    "    # Build a lookup: cell_type → index in dmso_centroids\n",
    "    dmso_cell_types = cell_types[dmso_idx].values\n",
    "    dmso_cell_type_to_idx = dict(zip(dmso_cell_types, dmso_indices))\n",
    "\n",
    "    # Get DMSO centroid for each perturbation group\n",
    "    dmso_for_pert = np.stack([\n",
    "        centroids[dmso_cell_type_to_idx[ct]] for ct in pert_cell_types\n",
    "    ])\n",
    "\n",
    "    # Compute perturbation vectors\n",
    "    pert_vectors = centroids[pert_indices] - dmso_for_pert\n",
    "    reference_df = pd.DataFrame({\n",
    "    'variable': cell_types,\n",
    "    'drug': perts,\n",
    "    'order': range(len(cell_types))\n",
    "    })\n",
    "    return pert_vectors, reference_df"
   ]
  },
  {
   "cell_type": "code",
   "execution_count": 6,
   "metadata": {},
   "outputs": [
    {
     "name": "stdout",
     "output_type": "stream",
     "text": [
      "here\n",
      "here\n"
     ]
    }
   ],
   "source": [
    "a549_ground_truth = sc.read_h5ad('/home/cachris/A549_gene_sim/original.h5ad')\n",
    "a549_ground_truth.X = a549_ground_truth.obsm['X_hvg']\n",
    "real_vectors, ref_real = get_pert_vectors(a549_ground_truth)\n",
    "del a549_ground_truth"
   ]
  },
  {
   "cell_type": "code",
   "execution_count": 7,
   "metadata": {},
   "outputs": [],
   "source": [
    "survival_values = pd.read_csv('/large_storage/ctc/public/tahoe/survival_data/log2fc_survivals_averaged_across_plate.csv')\n",
    "survival_values.index = survival_values['drug']\n",
    "survival_values = pd.DataFrame(survival_values['A549'])\n",
    "survival_values['drugname_drugconc'] = survival_values.index.to_series().apply(\n",
    "    lambda x: f\"[('{x.split('_')[0]}', {x.split('_')[1]}, 'uM')]\"\n",
    ")"
   ]
  },
  {
   "cell_type": "code",
   "execution_count": 8,
   "metadata": {},
   "outputs": [],
   "source": [
    "ref_real = pd.merge(\n",
    "    ref_real,\n",
    "    survival_values,\n",
    "    left_on='drug',\n",
    "    right_on='drugname_drugconc',\n",
    "    how='left',\n",
    "    sort=False\n",
    ")"
   ]
  },
  {
   "cell_type": "code",
   "execution_count": 9,
   "metadata": {},
   "outputs": [],
   "source": [
    "import numpy as np\n",
    "import pandas as pd\n",
    "from sklearn.svm import SVR\n",
    "from sklearn.model_selection import train_test_split\n",
    "from sklearn.preprocessing import StandardScaler\n",
    "from sklearn.metrics import r2_score, mean_squared_error\n",
    "import matplotlib.pyplot as plt\n",
    "import seaborn as sns"
   ]
  },
  {
   "cell_type": "code",
   "execution_count": 10,
   "metadata": {},
   "outputs": [],
   "source": [
    "ref_real = ref_real[ref_real['drug'] != \"[('DMSO_TF', 0.0, 'uM')]\"]"
   ]
  },
  {
   "cell_type": "code",
   "execution_count": 13,
   "metadata": {},
   "outputs": [
    {
     "name": "stdout",
     "output_type": "stream",
     "text": [
      "[\"ntamapimod'\", \"TO-253'\", \"-8353'\", \"licylic acid'\", \"rbamine (dihydrochloride)'\", \"bociclib'\", \"ratinib'\", \"motinib'\", \"tracycline (hydrochloride)'\", \"tecavir (monohydrate)'\", \"inestrol'\", \"mesulide'\", \"butin'\", \"droxyurea'\", \"nofibrate'\"]\n"
     ]
    }
   ],
   "source": [
    "import random\n",
    "drugs = ref_real['drug'].str.split(',').str[0].unique()\n",
    "drugs = [x[5:] for x in drugs]\n",
    "drugs = random.sample(list(drugs), 15)\n",
    "print(drugs)\n",
    "drugs_regex = '|'.join(drugs)"
   ]
  },
  {
   "cell_type": "code",
   "execution_count": 14,
   "metadata": {},
   "outputs": [
    {
     "name": "stderr",
     "output_type": "stream",
     "text": [
      "/tmp/ipykernel_2739616/2432298432.py:10: UserWarning: This pattern is interpreted as a regular expression, and has match groups. To actually get the groups, use str.extract.\n",
      "  train_mask =  ~(ref_real['drug'].str.contains(drugs_regex)) & ~(ref_real['A549'].isna())\n",
      "/tmp/ipykernel_2739616/2432298432.py:13: UserWarning: This pattern is interpreted as a regular expression, and has match groups. To actually get the groups, use str.extract.\n",
      "  test_mask = (ref_real['drug'].str.contains(drugs_regex)) & ~(ref_real['A549'].isna())\n"
     ]
    }
   ],
   "source": [
    "from sklearn.svm import SVR\n",
    "from sklearn.model_selection import train_test_split\n",
    "from sklearn.metrics import mean_squared_error, mean_absolute_error, r2_score\n",
    "from sklearn.preprocessing import StandardScaler\n",
    "import numpy as np\n",
    "valid_mask = ~ref_real['A549'].isna()\n",
    "# Apply the same mask to both\n",
    "x = real_vectors[valid_mask.values, :]\n",
    "y = ref_real['A549'][valid_mask].values\n",
    "train_mask =  ~(ref_real['drug'].str.contains(drugs_regex)) & ~(ref_real['A549'].isna())\n",
    "X_train = real_vectors[train_mask.values, :]\n",
    "y_train = ref_real['A549'][train_mask].values\n",
    "test_mask = (ref_real['drug'].str.contains(drugs_regex)) & ~(ref_real['A549'].isna())\n",
    "X_test = real_vectors[test_mask.values, :]\n",
    "y_test = ref_real['A549'][test_mask].values\n",
    "# Scale the features (important for SVM)\n",
    "scaler = StandardScaler()\n",
    "X_train_scaled = scaler.fit_transform(X_train)\n",
    "X_test_scaled = scaler.transform(X_test)\n",
    "\n",
    "\n",
    "# Scale the features (important for SVM)\n",
    "scaler = StandardScaler()\n",
    "X_train_scaled = scaler.fit_transform(X_train)\n",
    "X_test_scaled = scaler.transform(X_test)\n",
    "\n",
    "# Fit SVM\n",
    "svm = SVR(kernel='rbf')  # or 'rbf', 'poly', etc.\n",
    "svm.fit(X_train_scaled, y_train)\n",
    "\n",
    "# Make predictions\n",
    "y_pred = svm.predict(X_test_scaled)"
   ]
  },
  {
   "cell_type": "code",
   "execution_count": 15,
   "metadata": {},
   "outputs": [
    {
     "name": "stdout",
     "output_type": "stream",
     "text": [
      "SVR Regression Metrics:\n",
      "R² Score: 0.1398\n",
      "Mean Squared Error: 0.0079\n",
      "Root Mean Squared Error: 0.0888\n",
      "Mean Absolute Error: 0.0659\n",
      "Pearson r  = 0.4015\n",
      "Pearson r² = 0.1612\n",
      "p-value    = 8.4120e-03\n"
     ]
    }
   ],
   "source": [
    "# Regression metrics\n",
    "print(\"SVR Regression Metrics:\")\n",
    "print(f\"R² Score: {r2_score(y_test, y_pred):.4f}\")\n",
    "print(f\"Mean Squared Error: {mean_squared_error(y_test, y_pred):.4f}\")\n",
    "print(f\"Root Mean Squared Error: {np.sqrt(mean_squared_error(y_test, y_pred)):.4f}\")\n",
    "print(f\"Mean Absolute Error: {mean_absolute_error(y_test, y_pred):.4f}\")\n",
    "from scipy.stats import pearsonr\n",
    "from scipy.stats import spearmanr\n",
    "from scipy.stats import pearsonr\n",
    "\n",
    "r, p = pearsonr(y_test, y_pred)\n",
    "\n",
    "print(f\"Pearson r  = {r:.4f}\")\n",
    "print(f\"Pearson r² = {r**2:.4f}\")\n",
    "print(f\"p-value    = {p:.4e}\")"
   ]
  },
  {
   "cell_type": "code",
   "execution_count": 16,
   "metadata": {},
   "outputs": [],
   "source": [
    "a549_preds = sc.read_h5ad('/home/cachris/A549_gene_sim/first_pass_preds.h5ad')\n",
    "vars = np.load('/large_storage/ctc/userspace/aadduri/datasets/tahoe_19k_to_2k_names.npy', allow_pickle=True)\n",
    "a549_preds.X = a549_preds.obsm['X_hvg']"
   ]
  },
  {
   "cell_type": "code",
   "execution_count": 17,
   "metadata": {},
   "outputs": [
    {
     "name": "stdout",
     "output_type": "stream",
     "text": [
      "here\n",
      "here\n"
     ]
    }
   ],
   "source": [
    "pred_vectors, ref_pred = get_pert_vectors(a549_preds)\n",
    "del a549_preds\n"
   ]
  },
  {
   "cell_type": "code",
   "execution_count": 18,
   "metadata": {},
   "outputs": [
    {
     "data": {
      "text/html": [
       "<div>\n",
       "<style scoped>\n",
       "    .dataframe tbody tr th:only-of-type {\n",
       "        vertical-align: middle;\n",
       "    }\n",
       "\n",
       "    .dataframe tbody tr th {\n",
       "        vertical-align: top;\n",
       "    }\n",
       "\n",
       "    .dataframe thead th {\n",
       "        text-align: right;\n",
       "    }\n",
       "</style>\n",
       "<table border=\"1\" class=\"dataframe\">\n",
       "  <thead>\n",
       "    <tr style=\"text-align: right;\">\n",
       "      <th></th>\n",
       "      <th>variable</th>\n",
       "      <th>drug</th>\n",
       "      <th>order</th>\n",
       "    </tr>\n",
       "  </thead>\n",
       "  <tbody>\n",
       "    <tr>\n",
       "      <th>0</th>\n",
       "      <td>A549</td>\n",
       "      <td>AAAS</td>\n",
       "      <td>0</td>\n",
       "    </tr>\n",
       "    <tr>\n",
       "      <th>1</th>\n",
       "      <td>A549</td>\n",
       "      <td>AAMP</td>\n",
       "      <td>1</td>\n",
       "    </tr>\n",
       "    <tr>\n",
       "      <th>2</th>\n",
       "      <td>A549</td>\n",
       "      <td>AAR2</td>\n",
       "      <td>2</td>\n",
       "    </tr>\n",
       "    <tr>\n",
       "      <th>3</th>\n",
       "      <td>A549</td>\n",
       "      <td>AARS</td>\n",
       "      <td>3</td>\n",
       "    </tr>\n",
       "    <tr>\n",
       "      <th>4</th>\n",
       "      <td>A549</td>\n",
       "      <td>AARS2</td>\n",
       "      <td>4</td>\n",
       "    </tr>\n",
       "    <tr>\n",
       "      <th>...</th>\n",
       "      <td>...</td>\n",
       "      <td>...</td>\n",
       "      <td>...</td>\n",
       "    </tr>\n",
       "    <tr>\n",
       "      <th>2019</th>\n",
       "      <td>A549</td>\n",
       "      <td>ZRANB2</td>\n",
       "      <td>2019</td>\n",
       "    </tr>\n",
       "    <tr>\n",
       "      <th>2020</th>\n",
       "      <td>A549</td>\n",
       "      <td>ZRSR2</td>\n",
       "      <td>2020</td>\n",
       "    </tr>\n",
       "    <tr>\n",
       "      <th>2021</th>\n",
       "      <td>A549</td>\n",
       "      <td>ZW10</td>\n",
       "      <td>2021</td>\n",
       "    </tr>\n",
       "    <tr>\n",
       "      <th>2022</th>\n",
       "      <td>A549</td>\n",
       "      <td>ZWINT</td>\n",
       "      <td>2022</td>\n",
       "    </tr>\n",
       "    <tr>\n",
       "      <th>2023</th>\n",
       "      <td>A549</td>\n",
       "      <td>[('DMSO_TF', 0.0, 'uM')]</td>\n",
       "      <td>2023</td>\n",
       "    </tr>\n",
       "  </tbody>\n",
       "</table>\n",
       "<p>2024 rows × 3 columns</p>\n",
       "</div>"
      ],
      "text/plain": [
       "     variable                      drug  order\n",
       "0        A549                      AAAS      0\n",
       "1        A549                      AAMP      1\n",
       "2        A549                      AAR2      2\n",
       "3        A549                      AARS      3\n",
       "4        A549                     AARS2      4\n",
       "...       ...                       ...    ...\n",
       "2019     A549                    ZRANB2   2019\n",
       "2020     A549                     ZRSR2   2020\n",
       "2021     A549                      ZW10   2021\n",
       "2022     A549                     ZWINT   2022\n",
       "2023     A549  [('DMSO_TF', 0.0, 'uM')]   2023\n",
       "\n",
       "[2024 rows x 3 columns]"
      ]
     },
     "execution_count": 18,
     "metadata": {},
     "output_type": "execute_result"
    }
   ],
   "source": [
    "ref_pred"
   ]
  },
  {
   "cell_type": "code",
   "execution_count": 19,
   "metadata": {},
   "outputs": [],
   "source": [
    "ref_pred = ref_pred[ref_pred['drug'] != \"[('DMSO_TF', 0.0, 'uM')]\"]"
   ]
  },
  {
   "cell_type": "code",
   "execution_count": 20,
   "metadata": {},
   "outputs": [
    {
     "data": {
      "text/html": [
       "<div>\n",
       "<style scoped>\n",
       "    .dataframe tbody tr th:only-of-type {\n",
       "        vertical-align: middle;\n",
       "    }\n",
       "\n",
       "    .dataframe tbody tr th {\n",
       "        vertical-align: top;\n",
       "    }\n",
       "\n",
       "    .dataframe thead th {\n",
       "        text-align: right;\n",
       "    }\n",
       "</style>\n",
       "<table border=\"1\" class=\"dataframe\">\n",
       "  <thead>\n",
       "    <tr style=\"text-align: right;\">\n",
       "      <th></th>\n",
       "      <th>variable</th>\n",
       "      <th>drug</th>\n",
       "      <th>order</th>\n",
       "    </tr>\n",
       "  </thead>\n",
       "  <tbody>\n",
       "    <tr>\n",
       "      <th>0</th>\n",
       "      <td>A549</td>\n",
       "      <td>AAAS</td>\n",
       "      <td>0</td>\n",
       "    </tr>\n",
       "    <tr>\n",
       "      <th>1</th>\n",
       "      <td>A549</td>\n",
       "      <td>AAMP</td>\n",
       "      <td>1</td>\n",
       "    </tr>\n",
       "    <tr>\n",
       "      <th>2</th>\n",
       "      <td>A549</td>\n",
       "      <td>AAR2</td>\n",
       "      <td>2</td>\n",
       "    </tr>\n",
       "    <tr>\n",
       "      <th>3</th>\n",
       "      <td>A549</td>\n",
       "      <td>AARS</td>\n",
       "      <td>3</td>\n",
       "    </tr>\n",
       "    <tr>\n",
       "      <th>4</th>\n",
       "      <td>A549</td>\n",
       "      <td>AARS2</td>\n",
       "      <td>4</td>\n",
       "    </tr>\n",
       "    <tr>\n",
       "      <th>...</th>\n",
       "      <td>...</td>\n",
       "      <td>...</td>\n",
       "      <td>...</td>\n",
       "    </tr>\n",
       "    <tr>\n",
       "      <th>2018</th>\n",
       "      <td>A549</td>\n",
       "      <td>ZNRD1</td>\n",
       "      <td>2018</td>\n",
       "    </tr>\n",
       "    <tr>\n",
       "      <th>2019</th>\n",
       "      <td>A549</td>\n",
       "      <td>ZRANB2</td>\n",
       "      <td>2019</td>\n",
       "    </tr>\n",
       "    <tr>\n",
       "      <th>2020</th>\n",
       "      <td>A549</td>\n",
       "      <td>ZRSR2</td>\n",
       "      <td>2020</td>\n",
       "    </tr>\n",
       "    <tr>\n",
       "      <th>2021</th>\n",
       "      <td>A549</td>\n",
       "      <td>ZW10</td>\n",
       "      <td>2021</td>\n",
       "    </tr>\n",
       "    <tr>\n",
       "      <th>2022</th>\n",
       "      <td>A549</td>\n",
       "      <td>ZWINT</td>\n",
       "      <td>2022</td>\n",
       "    </tr>\n",
       "  </tbody>\n",
       "</table>\n",
       "<p>2023 rows × 3 columns</p>\n",
       "</div>"
      ],
      "text/plain": [
       "     variable    drug  order\n",
       "0        A549    AAAS      0\n",
       "1        A549    AAMP      1\n",
       "2        A549    AAR2      2\n",
       "3        A549    AARS      3\n",
       "4        A549   AARS2      4\n",
       "...       ...     ...    ...\n",
       "2018     A549   ZNRD1   2018\n",
       "2019     A549  ZRANB2   2019\n",
       "2020     A549   ZRSR2   2020\n",
       "2021     A549    ZW10   2021\n",
       "2022     A549   ZWINT   2022\n",
       "\n",
       "[2023 rows x 3 columns]"
      ]
     },
     "execution_count": 20,
     "metadata": {},
     "output_type": "execute_result"
    }
   ],
   "source": [
    "ref_pred "
   ]
  },
  {
   "cell_type": "code",
   "execution_count": 21,
   "metadata": {},
   "outputs": [],
   "source": [
    "from sklearn.svm import SVR\n",
    "from sklearn.model_selection import train_test_split\n",
    "from sklearn.metrics import mean_squared_error, mean_absolute_error, r2_score\n",
    "from sklearn.preprocessing import StandardScaler\n",
    "import numpy as np\n",
    "\n",
    "# Apply the same mask to both\n",
    "x = pred_vectors\n",
    "\n",
    "X_test_scaled = scaler.transform(x)\n",
    "\n",
    "\n",
    "# Make predictions\n",
    "y_pred = svm.predict(x)\n"
   ]
  },
  {
   "cell_type": "code",
   "execution_count": 22,
   "metadata": {},
   "outputs": [
    {
     "data": {
      "text/plain": [
       "drug\n",
       "PSMA4    -0.021915\n",
       "PSMB3    -0.021897\n",
       "PSMC4    -0.021860\n",
       "PSMB6    -0.021814\n",
       "WEE1     -0.021751\n",
       "PSMC2    -0.021641\n",
       "PSMA3    -0.021637\n",
       "FTSJ3    -0.021579\n",
       "PSMC5    -0.021575\n",
       "PSMC1    -0.021492\n",
       "PSMB2    -0.021490\n",
       "PSMD11   -0.021473\n",
       "PSMB5    -0.021364\n",
       "PSMB1    -0.021225\n",
       "RPL35A   -0.021092\n",
       "SMU1     -0.021082\n",
       "PSMD14   -0.021055\n",
       "EIF2S1   -0.021051\n",
       "RPL12    -0.020933\n",
       "NUF2     -0.020834\n",
       "dtype: float64"
      ]
     },
     "execution_count": 22,
     "metadata": {},
     "output_type": "execute_result"
    }
   ],
   "source": [
    "y_pred = pd.Series(y_pred)\n",
    "y_pred.index = ref_pred['drug']\n",
    "y_pred.sort_values().head(20)"
   ]
  },
  {
   "cell_type": "code",
   "execution_count": null,
   "metadata": {},
   "outputs": [],
   "source": []
  },
  {
   "cell_type": "code",
   "execution_count": 23,
   "metadata": {},
   "outputs": [],
   "source": [
    "A549_preds = y_pred"
   ]
  },
  {
   "cell_type": "code",
   "execution_count": 24,
   "metadata": {},
   "outputs": [
    {
     "name": "stdout",
     "output_type": "stream",
     "text": [
      "here\n",
      "here\n"
     ]
    }
   ],
   "source": [
    "bt_ground_truth = sc.read_h5ad('/home/cachris/HCT15_gene_sim/original.h5ad')\n",
    "bt_ground_truth.X = bt_ground_truth.obsm['X_hvg']\n",
    "real_vectors, ref_real = get_pert_vectors(bt_ground_truth)\n",
    "del bt_ground_truth"
   ]
  },
  {
   "cell_type": "code",
   "execution_count": 25,
   "metadata": {},
   "outputs": [],
   "source": [
    "survival_values = pd.read_csv('/large_storage/ctc/public/tahoe/survival_data/log2fc_survivals_averaged_across_plate.csv')\n",
    "survival_values.index = survival_values['drug']\n",
    "survival_values = pd.DataFrame(survival_values['HCT15'])\n",
    "survival_values['drugname_drugconc'] = survival_values.index.to_series().apply(\n",
    "    lambda x: f\"[('{x.split('_')[0]}', {x.split('_')[1]}, 'uM')]\"\n",
    ")"
   ]
  },
  {
   "cell_type": "code",
   "execution_count": 26,
   "metadata": {},
   "outputs": [],
   "source": [
    "ref_real = pd.merge(\n",
    "    ref_real,\n",
    "    survival_values,\n",
    "    left_on='drug',\n",
    "    right_on='drugname_drugconc',\n",
    "    how='left',\n",
    "    sort=False\n",
    ")"
   ]
  },
  {
   "cell_type": "code",
   "execution_count": 27,
   "metadata": {},
   "outputs": [],
   "source": [
    "ref_real = ref_real[ref_real['drug'] != \"[('DMSO_TF', 0.0, 'uM')]\"]"
   ]
  },
  {
   "cell_type": "code",
   "execution_count": 28,
   "metadata": {},
   "outputs": [
    {
     "name": "stderr",
     "output_type": "stream",
     "text": [
      "/tmp/ipykernel_2739616/55979923.py:10: UserWarning: This pattern is interpreted as a regular expression, and has match groups. To actually get the groups, use str.extract.\n",
      "  train_mask =  ~(ref_real['drug'].str.contains(drugs_regex)) & ~(ref_real['HCT15'].isna())\n",
      "/tmp/ipykernel_2739616/55979923.py:13: UserWarning: This pattern is interpreted as a regular expression, and has match groups. To actually get the groups, use str.extract.\n",
      "  test_mask = (ref_real['drug'].str.contains(drugs_regex)) & ~(ref_real['HCT15'].isna())\n"
     ]
    }
   ],
   "source": [
    "from sklearn.svm import SVR\n",
    "from sklearn.model_selection import train_test_split\n",
    "from sklearn.metrics import mean_squared_error, mean_absolute_error, r2_score\n",
    "from sklearn.preprocessing import StandardScaler\n",
    "import numpy as np\n",
    "valid_mask = ~ref_real['HCT15'].isna()\n",
    "# Apply the same mask to both\n",
    "x = real_vectors[valid_mask.values, :]\n",
    "y = ref_real['HCT15'][valid_mask].values\n",
    "train_mask =  ~(ref_real['drug'].str.contains(drugs_regex)) & ~(ref_real['HCT15'].isna())\n",
    "X_train = real_vectors[train_mask.values, :]\n",
    "y_train = ref_real['HCT15'][train_mask].values\n",
    "test_mask = (ref_real['drug'].str.contains(drugs_regex)) & ~(ref_real['HCT15'].isna())\n",
    "X_test = real_vectors[test_mask.values, :]\n",
    "y_test = ref_real['HCT15'][test_mask].values\n",
    "# Scale the features (important for SVM)\n",
    "scaler = StandardScaler()\n",
    "X_train_scaled = scaler.fit_transform(X_train)\n",
    "X_test_scaled = scaler.transform(X_test)\n",
    "\n",
    "\n",
    "# Scale the features (important for SVM)\n",
    "scaler = StandardScaler()\n",
    "X_train_scaled = scaler.fit_transform(X_train)\n",
    "X_test_scaled = scaler.transform(X_test)\n",
    "\n",
    "# Fit SVM\n",
    "svm = SVR(kernel='rbf')  # or 'rbf', 'poly', etc.\n",
    "svm.fit(X_train_scaled, y_train)\n",
    "\n",
    "# Make predictions\n",
    "y_pred = svm.predict(X_test_scaled)"
   ]
  },
  {
   "cell_type": "code",
   "execution_count": 29,
   "metadata": {},
   "outputs": [
    {
     "name": "stdout",
     "output_type": "stream",
     "text": [
      "here\n",
      "here\n"
     ]
    }
   ],
   "source": [
    "bt_preds = sc.read_h5ad('/home/cachris//HCT15_gene_sim/first_pass_preds.h5ad')\n",
    "vars = np.load('/large_storage/ctc/userspace/aadduri/datasets/tahoe_19k_to_2k_names.npy', allow_pickle=True)\n",
    "bt_preds.X = bt_preds.obsm['X_hvg']\n",
    "pred_vectors, ref_pred = get_pert_vectors(bt_preds)\n",
    "del bt_preds"
   ]
  },
  {
   "cell_type": "code",
   "execution_count": 30,
   "metadata": {},
   "outputs": [],
   "source": [
    "x = pred_vectors\n",
    "\n",
    "X_test_scaled = scaler.transform(x)\n",
    "\n",
    "\n",
    "# Make predictions\n",
    "y_pred = svm.predict(x)"
   ]
  },
  {
   "cell_type": "code",
   "execution_count": 31,
   "metadata": {},
   "outputs": [],
   "source": [
    "ref_pred = ref_pred[ref_pred['drug'] != \"[('DMSO_TF', 0.0, 'uM')]\"]"
   ]
  },
  {
   "cell_type": "code",
   "execution_count": 32,
   "metadata": {},
   "outputs": [
    {
     "data": {
      "text/plain": [
       "drug\n",
       "MTPAP       0.023122\n",
       "NEDD8       0.023182\n",
       "TFAM        0.023205\n",
       "LRPPRC      0.023213\n",
       "OPA1        0.023267\n",
       "CACTIN      0.023342\n",
       "LONP1       0.023346\n",
       "POLRMT      0.023427\n",
       "SSBP1       0.023487\n",
       "TFIP11      0.023488\n",
       "ZC3H18      0.023503\n",
       "ATP6V1A     0.023504\n",
       "CAST        0.023515\n",
       "ELOF1       0.023528\n",
       "TPT1        0.023538\n",
       "PRORP       0.023600\n",
       "ATP6V1G1    0.023615\n",
       "SUPV3L1     0.023623\n",
       "TRMT10C     0.023623\n",
       "ELAC2       0.023629\n",
       "dtype: float64"
      ]
     },
     "execution_count": 32,
     "metadata": {},
     "output_type": "execute_result"
    }
   ],
   "source": [
    "y_pred = pd.Series(y_pred)\n",
    "y_pred.index = ref_pred['drug']\n",
    "y_pred.sort_values().head(20)"
   ]
  },
  {
   "cell_type": "code",
   "execution_count": 33,
   "metadata": {},
   "outputs": [],
   "source": [
    "all_preds = pd.DataFrame({'A549' : A549_preds , 'HCT15' : y_pred})"
   ]
  },
  {
   "cell_type": "code",
   "execution_count": 34,
   "metadata": {},
   "outputs": [],
   "source": [
    "all_preds['diff'] = all_preds['A549'].astype(float) - all_preds['HCT15'].astype(float) "
   ]
  },
  {
   "cell_type": "code",
   "execution_count": 35,
   "metadata": {},
   "outputs": [
    {
     "data": {
      "text/html": [
       "<div>\n",
       "<style scoped>\n",
       "    .dataframe tbody tr th:only-of-type {\n",
       "        vertical-align: middle;\n",
       "    }\n",
       "\n",
       "    .dataframe tbody tr th {\n",
       "        vertical-align: top;\n",
       "    }\n",
       "\n",
       "    .dataframe thead th {\n",
       "        text-align: right;\n",
       "    }\n",
       "</style>\n",
       "<table border=\"1\" class=\"dataframe\">\n",
       "  <thead>\n",
       "    <tr style=\"text-align: right;\">\n",
       "      <th></th>\n",
       "      <th>A549</th>\n",
       "      <th>HCT15</th>\n",
       "      <th>diff</th>\n",
       "    </tr>\n",
       "    <tr>\n",
       "      <th>drug</th>\n",
       "      <th></th>\n",
       "      <th></th>\n",
       "      <th></th>\n",
       "    </tr>\n",
       "  </thead>\n",
       "  <tbody>\n",
       "    <tr>\n",
       "      <th>AIFM1</th>\n",
       "      <td>-0.019019</td>\n",
       "      <td>0.023773</td>\n",
       "      <td>-0.042792</td>\n",
       "    </tr>\n",
       "    <tr>\n",
       "      <th>ATP6V1C1</th>\n",
       "      <td>-0.019039</td>\n",
       "      <td>0.023749</td>\n",
       "      <td>-0.042788</td>\n",
       "    </tr>\n",
       "    <tr>\n",
       "      <th>VPS72</th>\n",
       "      <td>-0.019018</td>\n",
       "      <td>0.023766</td>\n",
       "      <td>-0.042784</td>\n",
       "    </tr>\n",
       "    <tr>\n",
       "      <th>TBPL1</th>\n",
       "      <td>-0.019056</td>\n",
       "      <td>0.023727</td>\n",
       "      <td>-0.042783</td>\n",
       "    </tr>\n",
       "    <tr>\n",
       "      <th>PTPMT1</th>\n",
       "      <td>-0.019025</td>\n",
       "      <td>0.023753</td>\n",
       "      <td>-0.042778</td>\n",
       "    </tr>\n",
       "    <tr>\n",
       "      <th>USP19</th>\n",
       "      <td>-0.018950</td>\n",
       "      <td>0.023826</td>\n",
       "      <td>-0.042776</td>\n",
       "    </tr>\n",
       "    <tr>\n",
       "      <th>MCL1</th>\n",
       "      <td>-0.018964</td>\n",
       "      <td>0.023807</td>\n",
       "      <td>-0.042771</td>\n",
       "    </tr>\n",
       "    <tr>\n",
       "      <th>GPS2</th>\n",
       "      <td>-0.019038</td>\n",
       "      <td>0.023731</td>\n",
       "      <td>-0.042770</td>\n",
       "    </tr>\n",
       "    <tr>\n",
       "      <th>PNPT1</th>\n",
       "      <td>-0.018980</td>\n",
       "      <td>0.023785</td>\n",
       "      <td>-0.042765</td>\n",
       "    </tr>\n",
       "    <tr>\n",
       "      <th>RACGAP1</th>\n",
       "      <td>-0.019030</td>\n",
       "      <td>0.023732</td>\n",
       "      <td>-0.042762</td>\n",
       "    </tr>\n",
       "    <tr>\n",
       "      <th>TFB2M</th>\n",
       "      <td>-0.018981</td>\n",
       "      <td>0.023777</td>\n",
       "      <td>-0.042758</td>\n",
       "    </tr>\n",
       "    <tr>\n",
       "      <th>ELAC2</th>\n",
       "      <td>-0.019128</td>\n",
       "      <td>0.023629</td>\n",
       "      <td>-0.042757</td>\n",
       "    </tr>\n",
       "    <tr>\n",
       "      <th>DAXX</th>\n",
       "      <td>-0.019013</td>\n",
       "      <td>0.023737</td>\n",
       "      <td>-0.042750</td>\n",
       "    </tr>\n",
       "    <tr>\n",
       "      <th>PPP2R3C</th>\n",
       "      <td>-0.019013</td>\n",
       "      <td>0.023719</td>\n",
       "      <td>-0.042732</td>\n",
       "    </tr>\n",
       "    <tr>\n",
       "      <th>USP9X</th>\n",
       "      <td>-0.018926</td>\n",
       "      <td>0.023806</td>\n",
       "      <td>-0.042732</td>\n",
       "    </tr>\n",
       "    <tr>\n",
       "      <th>GPKOW</th>\n",
       "      <td>-0.018863</td>\n",
       "      <td>0.023867</td>\n",
       "      <td>-0.042730</td>\n",
       "    </tr>\n",
       "    <tr>\n",
       "      <th>COMTD1</th>\n",
       "      <td>-0.018964</td>\n",
       "      <td>0.023764</td>\n",
       "      <td>-0.042727</td>\n",
       "    </tr>\n",
       "    <tr>\n",
       "      <th>DBF4</th>\n",
       "      <td>-0.018970</td>\n",
       "      <td>0.023757</td>\n",
       "      <td>-0.042727</td>\n",
       "    </tr>\n",
       "    <tr>\n",
       "      <th>ANLN</th>\n",
       "      <td>-0.018978</td>\n",
       "      <td>0.023747</td>\n",
       "      <td>-0.042725</td>\n",
       "    </tr>\n",
       "    <tr>\n",
       "      <th>ATP6V1G1</th>\n",
       "      <td>-0.019084</td>\n",
       "      <td>0.023615</td>\n",
       "      <td>-0.042699</td>\n",
       "    </tr>\n",
       "    <tr>\n",
       "      <th>TEFM</th>\n",
       "      <td>-0.018949</td>\n",
       "      <td>0.023735</td>\n",
       "      <td>-0.042684</td>\n",
       "    </tr>\n",
       "    <tr>\n",
       "      <th>ATP6V1A</th>\n",
       "      <td>-0.019173</td>\n",
       "      <td>0.023504</td>\n",
       "      <td>-0.042677</td>\n",
       "    </tr>\n",
       "    <tr>\n",
       "      <th>LSM12</th>\n",
       "      <td>-0.018955</td>\n",
       "      <td>0.023719</td>\n",
       "      <td>-0.042674</td>\n",
       "    </tr>\n",
       "    <tr>\n",
       "      <th>TPT1</th>\n",
       "      <td>-0.019050</td>\n",
       "      <td>0.023538</td>\n",
       "      <td>-0.042588</td>\n",
       "    </tr>\n",
       "    <tr>\n",
       "      <th>TRMT10C</th>\n",
       "      <td>-0.018922</td>\n",
       "      <td>0.023623</td>\n",
       "      <td>-0.042545</td>\n",
       "    </tr>\n",
       "    <tr>\n",
       "      <th>SUPV3L1</th>\n",
       "      <td>-0.018919</td>\n",
       "      <td>0.023623</td>\n",
       "      <td>-0.042542</td>\n",
       "    </tr>\n",
       "    <tr>\n",
       "      <th>ELOF1</th>\n",
       "      <td>-0.018995</td>\n",
       "      <td>0.023528</td>\n",
       "      <td>-0.042523</td>\n",
       "    </tr>\n",
       "    <tr>\n",
       "      <th>CACTIN</th>\n",
       "      <td>-0.019179</td>\n",
       "      <td>0.023342</td>\n",
       "      <td>-0.042521</td>\n",
       "    </tr>\n",
       "    <tr>\n",
       "      <th>PRORP</th>\n",
       "      <td>-0.018914</td>\n",
       "      <td>0.023600</td>\n",
       "      <td>-0.042513</td>\n",
       "    </tr>\n",
       "    <tr>\n",
       "      <th>LONP1</th>\n",
       "      <td>-0.019164</td>\n",
       "      <td>0.023346</td>\n",
       "      <td>-0.042510</td>\n",
       "    </tr>\n",
       "    <tr>\n",
       "      <th>ZC3H18</th>\n",
       "      <td>-0.018939</td>\n",
       "      <td>0.023503</td>\n",
       "      <td>-0.042441</td>\n",
       "    </tr>\n",
       "    <tr>\n",
       "      <th>CAST</th>\n",
       "      <td>-0.018880</td>\n",
       "      <td>0.023515</td>\n",
       "      <td>-0.042396</td>\n",
       "    </tr>\n",
       "    <tr>\n",
       "      <th>SSBP1</th>\n",
       "      <td>-0.018871</td>\n",
       "      <td>0.023487</td>\n",
       "      <td>-0.042358</td>\n",
       "    </tr>\n",
       "    <tr>\n",
       "      <th>OPA1</th>\n",
       "      <td>-0.019041</td>\n",
       "      <td>0.023267</td>\n",
       "      <td>-0.042309</td>\n",
       "    </tr>\n",
       "    <tr>\n",
       "      <th>POLRMT</th>\n",
       "      <td>-0.018850</td>\n",
       "      <td>0.023427</td>\n",
       "      <td>-0.042277</td>\n",
       "    </tr>\n",
       "    <tr>\n",
       "      <th>TFIP11</th>\n",
       "      <td>-0.018779</td>\n",
       "      <td>0.023488</td>\n",
       "      <td>-0.042267</td>\n",
       "    </tr>\n",
       "    <tr>\n",
       "      <th>NEDD8</th>\n",
       "      <td>-0.019058</td>\n",
       "      <td>0.023182</td>\n",
       "      <td>-0.042240</td>\n",
       "    </tr>\n",
       "    <tr>\n",
       "      <th>TFAM</th>\n",
       "      <td>-0.018794</td>\n",
       "      <td>0.023205</td>\n",
       "      <td>-0.042000</td>\n",
       "    </tr>\n",
       "    <tr>\n",
       "      <th>LRPPRC</th>\n",
       "      <td>-0.018772</td>\n",
       "      <td>0.023213</td>\n",
       "      <td>-0.041985</td>\n",
       "    </tr>\n",
       "    <tr>\n",
       "      <th>MTPAP</th>\n",
       "      <td>-0.018742</td>\n",
       "      <td>0.023122</td>\n",
       "      <td>-0.041864</td>\n",
       "    </tr>\n",
       "  </tbody>\n",
       "</table>\n",
       "</div>"
      ],
      "text/plain": [
       "              A549     HCT15      diff\n",
       "drug                                  \n",
       "AIFM1    -0.019019  0.023773 -0.042792\n",
       "ATP6V1C1 -0.019039  0.023749 -0.042788\n",
       "VPS72    -0.019018  0.023766 -0.042784\n",
       "TBPL1    -0.019056  0.023727 -0.042783\n",
       "PTPMT1   -0.019025  0.023753 -0.042778\n",
       "USP19    -0.018950  0.023826 -0.042776\n",
       "MCL1     -0.018964  0.023807 -0.042771\n",
       "GPS2     -0.019038  0.023731 -0.042770\n",
       "PNPT1    -0.018980  0.023785 -0.042765\n",
       "RACGAP1  -0.019030  0.023732 -0.042762\n",
       "TFB2M    -0.018981  0.023777 -0.042758\n",
       "ELAC2    -0.019128  0.023629 -0.042757\n",
       "DAXX     -0.019013  0.023737 -0.042750\n",
       "PPP2R3C  -0.019013  0.023719 -0.042732\n",
       "USP9X    -0.018926  0.023806 -0.042732\n",
       "GPKOW    -0.018863  0.023867 -0.042730\n",
       "COMTD1   -0.018964  0.023764 -0.042727\n",
       "DBF4     -0.018970  0.023757 -0.042727\n",
       "ANLN     -0.018978  0.023747 -0.042725\n",
       "ATP6V1G1 -0.019084  0.023615 -0.042699\n",
       "TEFM     -0.018949  0.023735 -0.042684\n",
       "ATP6V1A  -0.019173  0.023504 -0.042677\n",
       "LSM12    -0.018955  0.023719 -0.042674\n",
       "TPT1     -0.019050  0.023538 -0.042588\n",
       "TRMT10C  -0.018922  0.023623 -0.042545\n",
       "SUPV3L1  -0.018919  0.023623 -0.042542\n",
       "ELOF1    -0.018995  0.023528 -0.042523\n",
       "CACTIN   -0.019179  0.023342 -0.042521\n",
       "PRORP    -0.018914  0.023600 -0.042513\n",
       "LONP1    -0.019164  0.023346 -0.042510\n",
       "ZC3H18   -0.018939  0.023503 -0.042441\n",
       "CAST     -0.018880  0.023515 -0.042396\n",
       "SSBP1    -0.018871  0.023487 -0.042358\n",
       "OPA1     -0.019041  0.023267 -0.042309\n",
       "POLRMT   -0.018850  0.023427 -0.042277\n",
       "TFIP11   -0.018779  0.023488 -0.042267\n",
       "NEDD8    -0.019058  0.023182 -0.042240\n",
       "TFAM     -0.018794  0.023205 -0.042000\n",
       "LRPPRC   -0.018772  0.023213 -0.041985\n",
       "MTPAP    -0.018742  0.023122 -0.041864"
      ]
     },
     "execution_count": 35,
     "metadata": {},
     "output_type": "execute_result"
    }
   ],
   "source": [
    "all_preds.sort_values('diff').tail(40)"
   ]
  },
  {
   "cell_type": "code",
   "execution_count": 36,
   "metadata": {},
   "outputs": [],
   "source": [
    "cell_line_mapping = {'A549': 'ACH-000681','HCT15': 'ACH-000997' }"
   ]
  },
  {
   "cell_type": "code",
   "execution_count": 37,
   "metadata": {},
   "outputs": [],
   "source": [
    "depmap = pd.read_csv('/home/cachris/CRISPRGeneEffect.csv.gz', index_col = 0)\n",
    "depmap = depmap.T[['ACH-000681','ACH-000997' ]]"
   ]
  },
  {
   "cell_type": "code",
   "execution_count": 38,
   "metadata": {},
   "outputs": [
    {
     "data": {
      "text/html": [
       "<div>\n",
       "<style scoped>\n",
       "    .dataframe tbody tr th:only-of-type {\n",
       "        vertical-align: middle;\n",
       "    }\n",
       "\n",
       "    .dataframe tbody tr th {\n",
       "        vertical-align: top;\n",
       "    }\n",
       "\n",
       "    .dataframe thead th {\n",
       "        text-align: right;\n",
       "    }\n",
       "</style>\n",
       "<table border=\"1\" class=\"dataframe\">\n",
       "  <thead>\n",
       "    <tr style=\"text-align: right;\">\n",
       "      <th></th>\n",
       "      <th>ACH-000681</th>\n",
       "      <th>ACH-000997</th>\n",
       "    </tr>\n",
       "  </thead>\n",
       "  <tbody>\n",
       "    <tr>\n",
       "      <th>A1BG (1)</th>\n",
       "      <td>-0.061157</td>\n",
       "      <td>0.063689</td>\n",
       "    </tr>\n",
       "    <tr>\n",
       "      <th>A1CF (29974)</th>\n",
       "      <td>-0.022389</td>\n",
       "      <td>-0.285229</td>\n",
       "    </tr>\n",
       "    <tr>\n",
       "      <th>A2M (2)</th>\n",
       "      <td>-0.004080</td>\n",
       "      <td>0.006588</td>\n",
       "    </tr>\n",
       "    <tr>\n",
       "      <th>A2ML1 (144568)</th>\n",
       "      <td>-0.007541</td>\n",
       "      <td>0.242971</td>\n",
       "    </tr>\n",
       "    <tr>\n",
       "      <th>A3GALT2 (127550)</th>\n",
       "      <td>-0.041479</td>\n",
       "      <td>0.047620</td>\n",
       "    </tr>\n",
       "    <tr>\n",
       "      <th>...</th>\n",
       "      <td>...</td>\n",
       "      <td>...</td>\n",
       "    </tr>\n",
       "    <tr>\n",
       "      <th>ZYG11A (440590)</th>\n",
       "      <td>0.028194</td>\n",
       "      <td>-0.008451</td>\n",
       "    </tr>\n",
       "    <tr>\n",
       "      <th>ZYG11B (79699)</th>\n",
       "      <td>-0.219946</td>\n",
       "      <td>-0.064843</td>\n",
       "    </tr>\n",
       "    <tr>\n",
       "      <th>ZYX (7791)</th>\n",
       "      <td>0.139457</td>\n",
       "      <td>0.067396</td>\n",
       "    </tr>\n",
       "    <tr>\n",
       "      <th>ZZEF1 (23140)</th>\n",
       "      <td>-0.247795</td>\n",
       "      <td>-0.149798</td>\n",
       "    </tr>\n",
       "    <tr>\n",
       "      <th>ZZZ3 (26009)</th>\n",
       "      <td>-0.511605</td>\n",
       "      <td>0.057076</td>\n",
       "    </tr>\n",
       "  </tbody>\n",
       "</table>\n",
       "<p>17916 rows × 2 columns</p>\n",
       "</div>"
      ],
      "text/plain": [
       "                  ACH-000681  ACH-000997\n",
       "A1BG (1)           -0.061157    0.063689\n",
       "A1CF (29974)       -0.022389   -0.285229\n",
       "A2M (2)            -0.004080    0.006588\n",
       "A2ML1 (144568)     -0.007541    0.242971\n",
       "A3GALT2 (127550)   -0.041479    0.047620\n",
       "...                      ...         ...\n",
       "ZYG11A (440590)     0.028194   -0.008451\n",
       "ZYG11B (79699)     -0.219946   -0.064843\n",
       "ZYX (7791)          0.139457    0.067396\n",
       "ZZEF1 (23140)      -0.247795   -0.149798\n",
       "ZZZ3 (26009)       -0.511605    0.057076\n",
       "\n",
       "[17916 rows x 2 columns]"
      ]
     },
     "execution_count": 38,
     "metadata": {},
     "output_type": "execute_result"
    }
   ],
   "source": [
    "depmap"
   ]
  },
  {
   "cell_type": "code",
   "execution_count": 39,
   "metadata": {},
   "outputs": [
    {
     "data": {
      "text/html": [
       "<div>\n",
       "<style scoped>\n",
       "    .dataframe tbody tr th:only-of-type {\n",
       "        vertical-align: middle;\n",
       "    }\n",
       "\n",
       "    .dataframe tbody tr th {\n",
       "        vertical-align: top;\n",
       "    }\n",
       "\n",
       "    .dataframe thead th {\n",
       "        text-align: right;\n",
       "    }\n",
       "</style>\n",
       "<table border=\"1\" class=\"dataframe\">\n",
       "  <thead>\n",
       "    <tr style=\"text-align: right;\">\n",
       "      <th></th>\n",
       "      <th>A549</th>\n",
       "      <th>HCT15</th>\n",
       "      <th>diff</th>\n",
       "    </tr>\n",
       "    <tr>\n",
       "      <th>drug</th>\n",
       "      <th></th>\n",
       "      <th></th>\n",
       "      <th></th>\n",
       "    </tr>\n",
       "  </thead>\n",
       "  <tbody>\n",
       "    <tr>\n",
       "      <th>AAAS</th>\n",
       "      <td>-0.019162</td>\n",
       "      <td>0.024189</td>\n",
       "      <td>-0.043351</td>\n",
       "    </tr>\n",
       "    <tr>\n",
       "      <th>AAMP</th>\n",
       "      <td>-0.019789</td>\n",
       "      <td>0.026107</td>\n",
       "      <td>-0.045895</td>\n",
       "    </tr>\n",
       "    <tr>\n",
       "      <th>AAR2</th>\n",
       "      <td>-0.019161</td>\n",
       "      <td>0.024306</td>\n",
       "      <td>-0.043468</td>\n",
       "    </tr>\n",
       "    <tr>\n",
       "      <th>AARS</th>\n",
       "      <td>-0.020822</td>\n",
       "      <td>0.027859</td>\n",
       "      <td>-0.048681</td>\n",
       "    </tr>\n",
       "    <tr>\n",
       "      <th>AARS2</th>\n",
       "      <td>-0.019187</td>\n",
       "      <td>0.024392</td>\n",
       "      <td>-0.043579</td>\n",
       "    </tr>\n",
       "    <tr>\n",
       "      <th>...</th>\n",
       "      <td>...</td>\n",
       "      <td>...</td>\n",
       "      <td>...</td>\n",
       "    </tr>\n",
       "    <tr>\n",
       "      <th>ZNRD1</th>\n",
       "      <td>-0.019311</td>\n",
       "      <td>0.024308</td>\n",
       "      <td>-0.043619</td>\n",
       "    </tr>\n",
       "    <tr>\n",
       "      <th>ZRANB2</th>\n",
       "      <td>-0.019120</td>\n",
       "      <td>0.024042</td>\n",
       "      <td>-0.043162</td>\n",
       "    </tr>\n",
       "    <tr>\n",
       "      <th>ZRSR2</th>\n",
       "      <td>-0.019058</td>\n",
       "      <td>0.024027</td>\n",
       "      <td>-0.043085</td>\n",
       "    </tr>\n",
       "    <tr>\n",
       "      <th>ZW10</th>\n",
       "      <td>-0.019291</td>\n",
       "      <td>0.024256</td>\n",
       "      <td>-0.043548</td>\n",
       "    </tr>\n",
       "    <tr>\n",
       "      <th>ZWINT</th>\n",
       "      <td>-0.019578</td>\n",
       "      <td>0.024949</td>\n",
       "      <td>-0.044527</td>\n",
       "    </tr>\n",
       "  </tbody>\n",
       "</table>\n",
       "<p>2023 rows × 3 columns</p>\n",
       "</div>"
      ],
      "text/plain": [
       "            A549     HCT15      diff\n",
       "drug                                \n",
       "AAAS   -0.019162  0.024189 -0.043351\n",
       "AAMP   -0.019789  0.026107 -0.045895\n",
       "AAR2   -0.019161  0.024306 -0.043468\n",
       "AARS   -0.020822  0.027859 -0.048681\n",
       "AARS2  -0.019187  0.024392 -0.043579\n",
       "...          ...       ...       ...\n",
       "ZNRD1  -0.019311  0.024308 -0.043619\n",
       "ZRANB2 -0.019120  0.024042 -0.043162\n",
       "ZRSR2  -0.019058  0.024027 -0.043085\n",
       "ZW10   -0.019291  0.024256 -0.043548\n",
       "ZWINT  -0.019578  0.024949 -0.044527\n",
       "\n",
       "[2023 rows x 3 columns]"
      ]
     },
     "execution_count": 39,
     "metadata": {},
     "output_type": "execute_result"
    }
   ],
   "source": [
    "all_preds"
   ]
  },
  {
   "cell_type": "code",
   "execution_count": 40,
   "metadata": {},
   "outputs": [],
   "source": [
    "depmap['diff'] = depmap['ACH-000681'] - depmap['ACH-000997']"
   ]
  },
  {
   "cell_type": "code",
   "execution_count": 41,
   "metadata": {},
   "outputs": [],
   "source": [
    "depmap['drug'] = depmap.index.str.split(' ').str[0]"
   ]
  },
  {
   "cell_type": "code",
   "execution_count": 42,
   "metadata": {},
   "outputs": [
    {
     "data": {
      "text/html": [
       "<div>\n",
       "<style scoped>\n",
       "    .dataframe tbody tr th:only-of-type {\n",
       "        vertical-align: middle;\n",
       "    }\n",
       "\n",
       "    .dataframe tbody tr th {\n",
       "        vertical-align: top;\n",
       "    }\n",
       "\n",
       "    .dataframe thead th {\n",
       "        text-align: right;\n",
       "    }\n",
       "</style>\n",
       "<table border=\"1\" class=\"dataframe\">\n",
       "  <thead>\n",
       "    <tr style=\"text-align: right;\">\n",
       "      <th></th>\n",
       "      <th>ACH-000681</th>\n",
       "      <th>ACH-000997</th>\n",
       "      <th>diff_x</th>\n",
       "      <th>drug</th>\n",
       "      <th>A549</th>\n",
       "      <th>HCT15</th>\n",
       "      <th>diff_y</th>\n",
       "    </tr>\n",
       "  </thead>\n",
       "  <tbody>\n",
       "    <tr>\n",
       "      <th>0</th>\n",
       "      <td>-0.280334</td>\n",
       "      <td>0.088375</td>\n",
       "      <td>-0.368709</td>\n",
       "      <td>AAAS</td>\n",
       "      <td>-0.019162</td>\n",
       "      <td>0.024189</td>\n",
       "      <td>-0.043351</td>\n",
       "    </tr>\n",
       "    <tr>\n",
       "      <th>1</th>\n",
       "      <td>-1.299317</td>\n",
       "      <td>-2.460132</td>\n",
       "      <td>1.160815</td>\n",
       "      <td>AAMP</td>\n",
       "      <td>-0.019789</td>\n",
       "      <td>0.026107</td>\n",
       "      <td>-0.045895</td>\n",
       "    </tr>\n",
       "    <tr>\n",
       "      <th>2</th>\n",
       "      <td>-0.205379</td>\n",
       "      <td>-0.508050</td>\n",
       "      <td>0.302671</td>\n",
       "      <td>AAR2</td>\n",
       "      <td>-0.019161</td>\n",
       "      <td>0.024306</td>\n",
       "      <td>-0.043468</td>\n",
       "    </tr>\n",
       "    <tr>\n",
       "      <th>3</th>\n",
       "      <td>-0.714555</td>\n",
       "      <td>-0.343622</td>\n",
       "      <td>-0.370933</td>\n",
       "      <td>AARS2</td>\n",
       "      <td>-0.019187</td>\n",
       "      <td>0.024392</td>\n",
       "      <td>-0.043579</td>\n",
       "    </tr>\n",
       "    <tr>\n",
       "      <th>4</th>\n",
       "      <td>-0.184860</td>\n",
       "      <td>-0.439974</td>\n",
       "      <td>0.255114</td>\n",
       "      <td>AASDHPPT</td>\n",
       "      <td>-0.019220</td>\n",
       "      <td>0.024188</td>\n",
       "      <td>-0.043408</td>\n",
       "    </tr>\n",
       "    <tr>\n",
       "      <th>...</th>\n",
       "      <td>...</td>\n",
       "      <td>...</td>\n",
       "      <td>...</td>\n",
       "      <td>...</td>\n",
       "      <td>...</td>\n",
       "      <td>...</td>\n",
       "      <td>...</td>\n",
       "    </tr>\n",
       "    <tr>\n",
       "      <th>1948</th>\n",
       "      <td>-0.869152</td>\n",
       "      <td>-0.683099</td>\n",
       "      <td>-0.186054</td>\n",
       "      <td>ZNHIT6</td>\n",
       "      <td>-0.019525</td>\n",
       "      <td>0.025271</td>\n",
       "      <td>-0.044796</td>\n",
       "    </tr>\n",
       "    <tr>\n",
       "      <th>1949</th>\n",
       "      <td>-0.242852</td>\n",
       "      <td>-0.242288</td>\n",
       "      <td>-0.000564</td>\n",
       "      <td>ZRANB2</td>\n",
       "      <td>-0.019120</td>\n",
       "      <td>0.024042</td>\n",
       "      <td>-0.043162</td>\n",
       "    </tr>\n",
       "    <tr>\n",
       "      <th>1950</th>\n",
       "      <td>-0.453891</td>\n",
       "      <td>-2.279337</td>\n",
       "      <td>1.825446</td>\n",
       "      <td>ZRSR2</td>\n",
       "      <td>-0.019058</td>\n",
       "      <td>0.024027</td>\n",
       "      <td>-0.043085</td>\n",
       "    </tr>\n",
       "    <tr>\n",
       "      <th>1951</th>\n",
       "      <td>-0.308233</td>\n",
       "      <td>-0.419522</td>\n",
       "      <td>0.111289</td>\n",
       "      <td>ZW10</td>\n",
       "      <td>-0.019291</td>\n",
       "      <td>0.024256</td>\n",
       "      <td>-0.043548</td>\n",
       "    </tr>\n",
       "    <tr>\n",
       "      <th>1952</th>\n",
       "      <td>-0.736464</td>\n",
       "      <td>-1.328185</td>\n",
       "      <td>0.591721</td>\n",
       "      <td>ZWINT</td>\n",
       "      <td>-0.019578</td>\n",
       "      <td>0.024949</td>\n",
       "      <td>-0.044527</td>\n",
       "    </tr>\n",
       "  </tbody>\n",
       "</table>\n",
       "<p>1953 rows × 7 columns</p>\n",
       "</div>"
      ],
      "text/plain": [
       "      ACH-000681  ACH-000997    diff_x      drug      A549     HCT15    diff_y\n",
       "0      -0.280334    0.088375 -0.368709      AAAS -0.019162  0.024189 -0.043351\n",
       "1      -1.299317   -2.460132  1.160815      AAMP -0.019789  0.026107 -0.045895\n",
       "2      -0.205379   -0.508050  0.302671      AAR2 -0.019161  0.024306 -0.043468\n",
       "3      -0.714555   -0.343622 -0.370933     AARS2 -0.019187  0.024392 -0.043579\n",
       "4      -0.184860   -0.439974  0.255114  AASDHPPT -0.019220  0.024188 -0.043408\n",
       "...          ...         ...       ...       ...       ...       ...       ...\n",
       "1948   -0.869152   -0.683099 -0.186054    ZNHIT6 -0.019525  0.025271 -0.044796\n",
       "1949   -0.242852   -0.242288 -0.000564    ZRANB2 -0.019120  0.024042 -0.043162\n",
       "1950   -0.453891   -2.279337  1.825446     ZRSR2 -0.019058  0.024027 -0.043085\n",
       "1951   -0.308233   -0.419522  0.111289      ZW10 -0.019291  0.024256 -0.043548\n",
       "1952   -0.736464   -1.328185  0.591721     ZWINT -0.019578  0.024949 -0.044527\n",
       "\n",
       "[1953 rows x 7 columns]"
      ]
     },
     "execution_count": 42,
     "metadata": {},
     "output_type": "execute_result"
    }
   ],
   "source": [
    "merged = pd.merge(depmap, all_preds, on = 'drug')\n",
    "merged"
   ]
  },
  {
   "cell_type": "code",
   "execution_count": 43,
   "metadata": {},
   "outputs": [
    {
     "data": {
      "text/plain": [
       "Text(0, 0.5, 'predicted differences')"
      ]
     },
     "execution_count": 43,
     "metadata": {},
     "output_type": "execute_result"
    },
    {
     "data": {
      "image/png": "[encoded data removed]",
      "text/plain": [
       "<Figure size 640x480 with 1 Axes>"
      ]
     },
     "metadata": {},
     "output_type": "display_data"
    }
   ],
   "source": [
    "sns.scatterplot(x = merged['ACH-000997'],y =  merged['HCT15'])\n",
    "plt.xlabel('depmap survival difference')\n",
    "plt.ylabel('predicted differences')"
   ]
  },
  {
   "cell_type": "code",
   "execution_count": 47,
   "metadata": {},
   "outputs": [
    {
     "data": {
      "image/png": "[encoded data removed]",
      "text/plain": [
       "<Figure size 640x480 with 1 Axes>"
      ]
     },
     "metadata": {},
     "output_type": "display_data"
    }
   ],
   "source": [
    "import seaborn as sns\n",
    "import matplotlib.pyplot as plt\n",
    "from scipy import stats\n",
    "import numpy as np\n",
    "\n",
    "# Create the scatter plot\n",
    "sns.scatterplot(x=merged['ACH-000681'], y=merged['A549'])\n",
    "\n",
    "# Calculate regression line\n",
    "slope, intercept, r_value, p_value, std_err = stats.linregress(merged['ACH-000681'], merged['A549'])\n",
    "line_x = np.array([merged['ACH-000681'].min(), merged['ACH-000681'].max()])\n",
    "line_y = slope * line_x + intercept\n",
    "\n",
    "# Plot regression line\n",
    "plt.plot(line_x, line_y, color='red', linewidth=2, label=f'Regression line')\n",
    "\n",
    "# Add Pearson r and p-value to the plot\n",
    "plt.text(0.05, 0.95, f'Pearson r = {r_value:.3f}\\np = {p_value:.3e}', \n",
    "         transform=plt.gca().transAxes, \n",
    "         verticalalignment='top',\n",
    "         bbox=dict(boxstyle='round', facecolor='white', alpha=0.8))\n",
    "\n",
    "plt.xlabel('depmap survival difference')\n",
    "plt.ylabel('predicted differences')\n",
    "plt.legend()\n",
    "plt.tight_layout()\n",
    "plt.savefig('survival_predictions_depmap.pdf')\n",
    "plt.savefig('survival_predictions_depmap.png')\n",
    "plt.show()"
   ]
  },
  {
   "cell_type": "code",
   "execution_count": null,
   "metadata": {},
   "outputs": [],
   "source": [
    "from scipy import stats"
   ]
  },
  {
   "cell_type": "code",
   "execution_count": 245,
   "metadata": {},
   "outputs": [
    {
     "data": {
      "text/plain": [
       "PearsonRResult(statistic=0.4903023701213771, pvalue=1.1973373594417428e-118)"
      ]
     },
     "execution_count": 245,
     "metadata": {},
     "output_type": "execute_result"
    }
   ],
   "source": [
    "stats.pearsonr(merged['ACH-000681'],  merged['A549'])"
   ]
  },
  {
   "cell_type": "code",
   "execution_count": 246,
   "metadata": {},
   "outputs": [
    {
     "data": {
      "text/plain": [
       "-1.6910839594202702"
      ]
     },
     "execution_count": 246,
     "metadata": {},
     "output_type": "execute_result"
    }
   ],
   "source": [
    "r2_score(merged['ACH-000681'],  merged['A549'])"
   ]
  },
  {
   "cell_type": "code",
   "execution_count": 247,
   "metadata": {},
   "outputs": [
    {
     "data": {
      "text/plain": [
       "Text(0, 0.5, 'predicted differences')"
      ]
     },
     "execution_count": 247,
     "metadata": {},
     "output_type": "execute_result"
    },
    {
     "data": {
      "image/png": "[encoded data removed]",
      "text/plain": [
       "<Figure size 640x480 with 1 Axes>"
      ]
     },
     "metadata": {},
     "output_type": "display_data"
    }
   ],
   "source": [
    "sns.scatterplot(x = merged['diff_x'],y =  merged['diff_y'])\n",
    "plt.xlabel('depmap difference')\n",
    "plt.ylabel('predicted differences')"
   ]
  },
  {
   "cell_type": "code",
   "execution_count": 166,
   "metadata": {},
   "outputs": [
    {
     "name": "stderr",
     "output_type": "stream",
     "text": [
      "/home/cachris/.conda/envs/sc-env4/lib/python3.12/pty.py:95: RuntimeWarning: os.fork() was called. os.fork() is incompatible with multithreaded code, and JAX is multithreaded, so this will likely lead to a deadlock.\n",
      "  pid, fd = os.forkpty()\n"
     ]
    },
    {
     "name": "stdout",
     "output_type": "stream",
     "text": [
      "Requirement already satisfied: depmap in /home/cachris/.conda/envs/sc-env4/lib/python3.12/site-packages (0.4.11)\n",
      "Requirement already satisfied: tqdm in /home/cachris/.conda/envs/sc-env4/lib/python3.12/site-packages (from depmap) (4.67.1)\n",
      "Requirement already satisfied: boto3 in /home/cachris/.conda/envs/sc-env4/lib/python3.12/site-packages (from depmap) (1.40.57)\n",
      "Requirement already satisfied: requests in /home/cachris/.conda/envs/sc-env4/lib/python3.12/site-packages (from depmap) (2.32.3)\n",
      "Requirement already satisfied: pygments in /home/cachris/.conda/envs/sc-env4/lib/python3.12/site-packages (from depmap) (2.19.1)\n",
      "Requirement already satisfied: python-dotenv in /home/cachris/.conda/envs/sc-env4/lib/python3.12/site-packages (from depmap) (1.1.1)\n",
      "Requirement already satisfied: botocore<1.41.0,>=1.40.57 in /home/cachris/.conda/envs/sc-env4/lib/python3.12/site-packages (from boto3->depmap) (1.40.57)\n",
      "Requirement already satisfied: jmespath<2.0.0,>=0.7.1 in /home/cachris/.conda/envs/sc-env4/lib/python3.12/site-packages (from boto3->depmap) (1.0.1)\n",
      "Requirement already satisfied: s3transfer<0.15.0,>=0.14.0 in /home/cachris/.conda/envs/sc-env4/lib/python3.12/site-packages (from boto3->depmap) (0.14.0)\n",
      "Requirement already satisfied: charset_normalizer<4,>=2 in /home/cachris/.conda/envs/sc-env4/lib/python3.12/site-packages (from requests->depmap) (3.4.1)\n",
      "Requirement already satisfied: idna<4,>=2.5 in /home/cachris/.conda/envs/sc-env4/lib/python3.12/site-packages (from requests->depmap) (3.10)\n",
      "Requirement already satisfied: urllib3<3,>=1.21.1 in /home/cachris/.conda/envs/sc-env4/lib/python3.12/site-packages (from requests->depmap) (2.3.0)\n",
      "Requirement already satisfied: certifi>=2017.4.17 in /home/cachris/.conda/envs/sc-env4/lib/python3.12/site-packages (from requests->depmap) (2025.10.5)\n"
     ]
    },
    {
     "name": "stdout",
     "output_type": "stream",
     "text": [
      "Requirement already satisfied: python-dateutil<3.0.0,>=2.1 in /home/cachris/.conda/envs/sc-env4/lib/python3.12/site-packages (from botocore<1.41.0,>=1.40.57->boto3->depmap) (2.9.0.post0)\n",
      "Requirement already satisfied: six>=1.5 in /home/cachris/.conda/envs/sc-env4/lib/python3.12/site-packages (from python-dateutil<3.0.0,>=2.1->botocore<1.41.0,>=1.40.57->boto3->depmap) (1.17.0)\n"
     ]
    }
   ],
   "source": [
    "!pip install depmap"
   ]
  },
  {
   "cell_type": "code",
   "execution_count": 2,
   "metadata": {},
   "outputs": [
    {
     "ename": "ModuleNotFoundError",
     "evalue": "No module named 'depmap'",
     "output_type": "error",
     "traceback": [
      "\u001b[31m---------------------------------------------------------------------------\u001b[39m",
      "\u001b[31mModuleNotFoundError\u001b[39m                       Traceback (most recent call last)",
      "\u001b[36mCell\u001b[39m\u001b[36m \u001b[39m\u001b[32mIn[2]\u001b[39m\u001b[32m, line 1\u001b[39m\n\u001b[32m----> \u001b[39m\u001b[32m1\u001b[39m \u001b[38;5;28;01mfrom\u001b[39;00m\u001b[38;5;250m \u001b[39m\u001b[34;01mdepmap\u001b[39;00m\u001b[38;5;250m \u001b[39m\u001b[38;5;28;01mimport\u001b[39;00m DepMap\n\u001b[32m      3\u001b[39m \u001b[38;5;66;03m# Initialize client\u001b[39;00m\n\u001b[32m      4\u001b[39m depmap = DepMap()\n",
      "\u001b[31mModuleNotFoundError\u001b[39m: No module named 'depmap'"
     ]
    }
   ],
   "source": [
    "from depmap import DepMap\n",
    "\n",
    "# Initialize client\n",
    "depmap = DepMap()\n",
    "\n",
    "# Load the public dataset (latest release)\n",
    "depmap.load_public()  # downloads ~100MB of data into ~/.depmap/\n",
    "\n",
    "# List available datasets\n",
    "depmap.datasets.keys()\n"
   ]
  },
  {
   "cell_type": "code",
   "execution_count": 160,
   "metadata": {},
   "outputs": [
    {
     "ename": "HTTPError",
     "evalue": "HTTP Error 404: Not Found",
     "output_type": "error",
     "traceback": [
      "\u001b[31m---------------------------------------------------------------------------\u001b[39m",
      "\u001b[31mHTTPError\u001b[39m                                 Traceback (most recent call last)",
      "\u001b[36mCell\u001b[39m\u001b[36m \u001b[39m\u001b[32mIn[160]\u001b[39m\u001b[32m, line 2\u001b[39m\n\u001b[32m      1\u001b[39m url = \u001b[33m\"\u001b[39m\u001b[33mhttps://ndownloader.figshare.com/files/43566496\u001b[39m\u001b[33m\"\u001b[39m  \u001b[38;5;66;03m# CRISPR gene effect (DepMap 24Q2)\u001b[39;00m\n\u001b[32m----> \u001b[39m\u001b[32m2\u001b[39m depmap = \u001b[43mpd\u001b[49m\u001b[43m.\u001b[49m\u001b[43mread_csv\u001b[49m\u001b[43m(\u001b[49m\u001b[43murl\u001b[49m\u001b[43m)\u001b[49m\n",
      "\u001b[36mFile \u001b[39m\u001b[32m~/.conda/envs/sc-env4/lib/python3.12/site-packages/pandas/io/parsers/readers.py:1026\u001b[39m, in \u001b[36mread_csv\u001b[39m\u001b[34m(filepath_or_buffer, sep, delimiter, header, names, index_col, usecols, dtype, engine, converters, true_values, false_values, skipinitialspace, skiprows, skipfooter, nrows, na_values, keep_default_na, na_filter, verbose, skip_blank_lines, parse_dates, infer_datetime_format, keep_date_col, date_parser, date_format, dayfirst, cache_dates, iterator, chunksize, compression, thousands, decimal, lineterminator, quotechar, quoting, doublequote, escapechar, comment, encoding, encoding_errors, dialect, on_bad_lines, delim_whitespace, low_memory, memory_map, float_precision, storage_options, dtype_backend)\u001b[39m\n\u001b[32m   1013\u001b[39m kwds_defaults = _refine_defaults_read(\n\u001b[32m   1014\u001b[39m     dialect,\n\u001b[32m   1015\u001b[39m     delimiter,\n\u001b[32m   (...)\u001b[39m\u001b[32m   1022\u001b[39m     dtype_backend=dtype_backend,\n\u001b[32m   1023\u001b[39m )\n\u001b[32m   1024\u001b[39m kwds.update(kwds_defaults)\n\u001b[32m-> \u001b[39m\u001b[32m1026\u001b[39m \u001b[38;5;28;01mreturn\u001b[39;00m \u001b[43m_read\u001b[49m\u001b[43m(\u001b[49m\u001b[43mfilepath_or_buffer\u001b[49m\u001b[43m,\u001b[49m\u001b[43m \u001b[49m\u001b[43mkwds\u001b[49m\u001b[43m)\u001b[49m\n",
      "\u001b[36mFile \u001b[39m\u001b[32m~/.conda/envs/sc-env4/lib/python3.12/site-packages/pandas/io/parsers/readers.py:620\u001b[39m, in \u001b[36m_read\u001b[39m\u001b[34m(filepath_or_buffer, kwds)\u001b[39m\n\u001b[32m    617\u001b[39m _validate_names(kwds.get(\u001b[33m\"\u001b[39m\u001b[33mnames\u001b[39m\u001b[33m\"\u001b[39m, \u001b[38;5;28;01mNone\u001b[39;00m))\n\u001b[32m    619\u001b[39m \u001b[38;5;66;03m# Create the parser.\u001b[39;00m\n\u001b[32m--> \u001b[39m\u001b[32m620\u001b[39m parser = \u001b[43mTextFileReader\u001b[49m\u001b[43m(\u001b[49m\u001b[43mfilepath_or_buffer\u001b[49m\u001b[43m,\u001b[49m\u001b[43m \u001b[49m\u001b[43m*\u001b[49m\u001b[43m*\u001b[49m\u001b[43mkwds\u001b[49m\u001b[43m)\u001b[49m\n\u001b[32m    622\u001b[39m \u001b[38;5;28;01mif\u001b[39;00m chunksize \u001b[38;5;129;01mor\u001b[39;00m iterator:\n\u001b[32m    623\u001b[39m     \u001b[38;5;28;01mreturn\u001b[39;00m parser\n",
      "\u001b[36mFile \u001b[39m\u001b[32m~/.conda/envs/sc-env4/lib/python3.12/site-packages/pandas/io/parsers/readers.py:1620\u001b[39m, in \u001b[36mTextFileReader.__init__\u001b[39m\u001b[34m(self, f, engine, **kwds)\u001b[39m\n\u001b[32m   1617\u001b[39m     \u001b[38;5;28mself\u001b[39m.options[\u001b[33m\"\u001b[39m\u001b[33mhas_index_names\u001b[39m\u001b[33m\"\u001b[39m] = kwds[\u001b[33m\"\u001b[39m\u001b[33mhas_index_names\u001b[39m\u001b[33m\"\u001b[39m]\n\u001b[32m   1619\u001b[39m \u001b[38;5;28mself\u001b[39m.handles: IOHandles | \u001b[38;5;28;01mNone\u001b[39;00m = \u001b[38;5;28;01mNone\u001b[39;00m\n\u001b[32m-> \u001b[39m\u001b[32m1620\u001b[39m \u001b[38;5;28mself\u001b[39m._engine = \u001b[38;5;28;43mself\u001b[39;49m\u001b[43m.\u001b[49m\u001b[43m_make_engine\u001b[49m\u001b[43m(\u001b[49m\u001b[43mf\u001b[49m\u001b[43m,\u001b[49m\u001b[43m \u001b[49m\u001b[38;5;28;43mself\u001b[39;49m\u001b[43m.\u001b[49m\u001b[43mengine\u001b[49m\u001b[43m)\u001b[49m\n",
      "\u001b[36mFile \u001b[39m\u001b[32m~/.conda/envs/sc-env4/lib/python3.12/site-packages/pandas/io/parsers/readers.py:1880\u001b[39m, in \u001b[36mTextFileReader._make_engine\u001b[39m\u001b[34m(self, f, engine)\u001b[39m\n\u001b[32m   1878\u001b[39m     \u001b[38;5;28;01mif\u001b[39;00m \u001b[33m\"\u001b[39m\u001b[33mb\u001b[39m\u001b[33m\"\u001b[39m \u001b[38;5;129;01mnot\u001b[39;00m \u001b[38;5;129;01min\u001b[39;00m mode:\n\u001b[32m   1879\u001b[39m         mode += \u001b[33m\"\u001b[39m\u001b[33mb\u001b[39m\u001b[33m\"\u001b[39m\n\u001b[32m-> \u001b[39m\u001b[32m1880\u001b[39m \u001b[38;5;28mself\u001b[39m.handles = \u001b[43mget_handle\u001b[49m\u001b[43m(\u001b[49m\n\u001b[32m   1881\u001b[39m \u001b[43m    \u001b[49m\u001b[43mf\u001b[49m\u001b[43m,\u001b[49m\n\u001b[32m   1882\u001b[39m \u001b[43m    \u001b[49m\u001b[43mmode\u001b[49m\u001b[43m,\u001b[49m\n\u001b[32m   1883\u001b[39m \u001b[43m    \u001b[49m\u001b[43mencoding\u001b[49m\u001b[43m=\u001b[49m\u001b[38;5;28;43mself\u001b[39;49m\u001b[43m.\u001b[49m\u001b[43moptions\u001b[49m\u001b[43m.\u001b[49m\u001b[43mget\u001b[49m\u001b[43m(\u001b[49m\u001b[33;43m\"\u001b[39;49m\u001b[33;43mencoding\u001b[39;49m\u001b[33;43m\"\u001b[39;49m\u001b[43m,\u001b[49m\u001b[43m \u001b[49m\u001b[38;5;28;43;01mNone\u001b[39;49;00m\u001b[43m)\u001b[49m\u001b[43m,\u001b[49m\n\u001b[32m   1884\u001b[39m \u001b[43m    \u001b[49m\u001b[43mcompression\u001b[49m\u001b[43m=\u001b[49m\u001b[38;5;28;43mself\u001b[39;49m\u001b[43m.\u001b[49m\u001b[43moptions\u001b[49m\u001b[43m.\u001b[49m\u001b[43mget\u001b[49m\u001b[43m(\u001b[49m\u001b[33;43m\"\u001b[39;49m\u001b[33;43mcompression\u001b[39;49m\u001b[33;43m\"\u001b[39;49m\u001b[43m,\u001b[49m\u001b[43m \u001b[49m\u001b[38;5;28;43;01mNone\u001b[39;49;00m\u001b[43m)\u001b[49m\u001b[43m,\u001b[49m\n\u001b[32m   1885\u001b[39m \u001b[43m    \u001b[49m\u001b[43mmemory_map\u001b[49m\u001b[43m=\u001b[49m\u001b[38;5;28;43mself\u001b[39;49m\u001b[43m.\u001b[49m\u001b[43moptions\u001b[49m\u001b[43m.\u001b[49m\u001b[43mget\u001b[49m\u001b[43m(\u001b[49m\u001b[33;43m\"\u001b[39;49m\u001b[33;43mmemory_map\u001b[39;49m\u001b[33;43m\"\u001b[39;49m\u001b[43m,\u001b[49m\u001b[43m \u001b[49m\u001b[38;5;28;43;01mFalse\u001b[39;49;00m\u001b[43m)\u001b[49m\u001b[43m,\u001b[49m\n\u001b[32m   1886\u001b[39m \u001b[43m    \u001b[49m\u001b[43mis_text\u001b[49m\u001b[43m=\u001b[49m\u001b[43mis_text\u001b[49m\u001b[43m,\u001b[49m\n\u001b[32m   1887\u001b[39m \u001b[43m    \u001b[49m\u001b[43merrors\u001b[49m\u001b[43m=\u001b[49m\u001b[38;5;28;43mself\u001b[39;49m\u001b[43m.\u001b[49m\u001b[43moptions\u001b[49m\u001b[43m.\u001b[49m\u001b[43mget\u001b[49m\u001b[43m(\u001b[49m\u001b[33;43m\"\u001b[39;49m\u001b[33;43mencoding_errors\u001b[39;49m\u001b[33;43m\"\u001b[39;49m\u001b[43m,\u001b[49m\u001b[43m \u001b[49m\u001b[33;43m\"\u001b[39;49m\u001b[33;43mstrict\u001b[39;49m\u001b[33;43m\"\u001b[39;49m\u001b[43m)\u001b[49m\u001b[43m,\u001b[49m\n\u001b[32m   1888\u001b[39m \u001b[43m    \u001b[49m\u001b[43mstorage_options\u001b[49m\u001b[43m=\u001b[49m\u001b[38;5;28;43mself\u001b[39;49m\u001b[43m.\u001b[49m\u001b[43moptions\u001b[49m\u001b[43m.\u001b[49m\u001b[43mget\u001b[49m\u001b[43m(\u001b[49m\u001b[33;43m\"\u001b[39;49m\u001b[33;43mstorage_options\u001b[39;49m\u001b[33;43m\"\u001b[39;49m\u001b[43m,\u001b[49m\u001b[43m \u001b[49m\u001b[38;5;28;43;01mNone\u001b[39;49;00m\u001b[43m)\u001b[49m\u001b[43m,\u001b[49m\n\u001b[32m   1889\u001b[39m \u001b[43m\u001b[49m\u001b[43m)\u001b[49m\n\u001b[32m   1890\u001b[39m \u001b[38;5;28;01massert\u001b[39;00m \u001b[38;5;28mself\u001b[39m.handles \u001b[38;5;129;01mis\u001b[39;00m \u001b[38;5;129;01mnot\u001b[39;00m \u001b[38;5;28;01mNone\u001b[39;00m\n\u001b[32m   1891\u001b[39m f = \u001b[38;5;28mself\u001b[39m.handles.handle\n",
      "\u001b[36mFile \u001b[39m\u001b[32m~/.conda/envs/sc-env4/lib/python3.12/site-packages/pandas/io/common.py:728\u001b[39m, in \u001b[36mget_handle\u001b[39m\u001b[34m(path_or_buf, mode, encoding, compression, memory_map, is_text, errors, storage_options)\u001b[39m\n\u001b[32m    725\u001b[39m     codecs.lookup_error(errors)\n\u001b[32m    727\u001b[39m \u001b[38;5;66;03m# open URLs\u001b[39;00m\n\u001b[32m--> \u001b[39m\u001b[32m728\u001b[39m ioargs = \u001b[43m_get_filepath_or_buffer\u001b[49m\u001b[43m(\u001b[49m\n\u001b[32m    729\u001b[39m \u001b[43m    \u001b[49m\u001b[43mpath_or_buf\u001b[49m\u001b[43m,\u001b[49m\n\u001b[32m    730\u001b[39m \u001b[43m    \u001b[49m\u001b[43mencoding\u001b[49m\u001b[43m=\u001b[49m\u001b[43mencoding\u001b[49m\u001b[43m,\u001b[49m\n\u001b[32m    731\u001b[39m \u001b[43m    \u001b[49m\u001b[43mcompression\u001b[49m\u001b[43m=\u001b[49m\u001b[43mcompression\u001b[49m\u001b[43m,\u001b[49m\n\u001b[32m    732\u001b[39m \u001b[43m    \u001b[49m\u001b[43mmode\u001b[49m\u001b[43m=\u001b[49m\u001b[43mmode\u001b[49m\u001b[43m,\u001b[49m\n\u001b[32m    733\u001b[39m \u001b[43m    \u001b[49m\u001b[43mstorage_options\u001b[49m\u001b[43m=\u001b[49m\u001b[43mstorage_options\u001b[49m\u001b[43m,\u001b[49m\n\u001b[32m    734\u001b[39m \u001b[43m\u001b[49m\u001b[43m)\u001b[49m\n\u001b[32m    736\u001b[39m handle = ioargs.filepath_or_buffer\n\u001b[32m    737\u001b[39m handles: \u001b[38;5;28mlist\u001b[39m[BaseBuffer]\n",
      "\u001b[36mFile \u001b[39m\u001b[32m~/.conda/envs/sc-env4/lib/python3.12/site-packages/pandas/io/common.py:384\u001b[39m, in \u001b[36m_get_filepath_or_buffer\u001b[39m\u001b[34m(filepath_or_buffer, encoding, compression, mode, storage_options)\u001b[39m\n\u001b[32m    382\u001b[39m \u001b[38;5;66;03m# assuming storage_options is to be interpreted as headers\u001b[39;00m\n\u001b[32m    383\u001b[39m req_info = urllib.request.Request(filepath_or_buffer, headers=storage_options)\n\u001b[32m--> \u001b[39m\u001b[32m384\u001b[39m \u001b[38;5;28;01mwith\u001b[39;00m \u001b[43murlopen\u001b[49m\u001b[43m(\u001b[49m\u001b[43mreq_info\u001b[49m\u001b[43m)\u001b[49m \u001b[38;5;28;01mas\u001b[39;00m req:\n\u001b[32m    385\u001b[39m     content_encoding = req.headers.get(\u001b[33m\"\u001b[39m\u001b[33mContent-Encoding\u001b[39m\u001b[33m\"\u001b[39m, \u001b[38;5;28;01mNone\u001b[39;00m)\n\u001b[32m    386\u001b[39m     \u001b[38;5;28;01mif\u001b[39;00m content_encoding == \u001b[33m\"\u001b[39m\u001b[33mgzip\u001b[39m\u001b[33m\"\u001b[39m:\n\u001b[32m    387\u001b[39m         \u001b[38;5;66;03m# Override compression based on Content-Encoding header\u001b[39;00m\n",
      "\u001b[36mFile \u001b[39m\u001b[32m~/.conda/envs/sc-env4/lib/python3.12/site-packages/pandas/io/common.py:289\u001b[39m, in \u001b[36murlopen\u001b[39m\u001b[34m(*args, **kwargs)\u001b[39m\n\u001b[32m    283\u001b[39m \u001b[38;5;250m\u001b[39m\u001b[33;03m\"\"\"\u001b[39;00m\n\u001b[32m    284\u001b[39m \u001b[33;03mLazy-import wrapper for stdlib urlopen, as that imports a big chunk of\u001b[39;00m\n\u001b[32m    285\u001b[39m \u001b[33;03mthe stdlib.\u001b[39;00m\n\u001b[32m    286\u001b[39m \u001b[33;03m\"\"\"\u001b[39;00m\n\u001b[32m    287\u001b[39m \u001b[38;5;28;01mimport\u001b[39;00m\u001b[38;5;250m \u001b[39m\u001b[34;01murllib\u001b[39;00m\u001b[34;01m.\u001b[39;00m\u001b[34;01mrequest\u001b[39;00m\n\u001b[32m--> \u001b[39m\u001b[32m289\u001b[39m \u001b[38;5;28;01mreturn\u001b[39;00m \u001b[43murllib\u001b[49m\u001b[43m.\u001b[49m\u001b[43mrequest\u001b[49m\u001b[43m.\u001b[49m\u001b[43murlopen\u001b[49m\u001b[43m(\u001b[49m\u001b[43m*\u001b[49m\u001b[43margs\u001b[49m\u001b[43m,\u001b[49m\u001b[43m \u001b[49m\u001b[43m*\u001b[49m\u001b[43m*\u001b[49m\u001b[43mkwargs\u001b[49m\u001b[43m)\u001b[49m\n",
      "\u001b[36mFile \u001b[39m\u001b[32m~/.conda/envs/sc-env4/lib/python3.12/urllib/request.py:215\u001b[39m, in \u001b[36murlopen\u001b[39m\u001b[34m(url, data, timeout, cafile, capath, cadefault, context)\u001b[39m\n\u001b[32m    213\u001b[39m \u001b[38;5;28;01melse\u001b[39;00m:\n\u001b[32m    214\u001b[39m     opener = _opener\n\u001b[32m--> \u001b[39m\u001b[32m215\u001b[39m \u001b[38;5;28;01mreturn\u001b[39;00m \u001b[43mopener\u001b[49m\u001b[43m.\u001b[49m\u001b[43mopen\u001b[49m\u001b[43m(\u001b[49m\u001b[43murl\u001b[49m\u001b[43m,\u001b[49m\u001b[43m \u001b[49m\u001b[43mdata\u001b[49m\u001b[43m,\u001b[49m\u001b[43m \u001b[49m\u001b[43mtimeout\u001b[49m\u001b[43m)\u001b[49m\n",
      "\u001b[36mFile \u001b[39m\u001b[32m~/.conda/envs/sc-env4/lib/python3.12/urllib/request.py:521\u001b[39m, in \u001b[36mOpenerDirector.open\u001b[39m\u001b[34m(self, fullurl, data, timeout)\u001b[39m\n\u001b[32m    519\u001b[39m \u001b[38;5;28;01mfor\u001b[39;00m processor \u001b[38;5;129;01min\u001b[39;00m \u001b[38;5;28mself\u001b[39m.process_response.get(protocol, []):\n\u001b[32m    520\u001b[39m     meth = \u001b[38;5;28mgetattr\u001b[39m(processor, meth_name)\n\u001b[32m--> \u001b[39m\u001b[32m521\u001b[39m     response = \u001b[43mmeth\u001b[49m\u001b[43m(\u001b[49m\u001b[43mreq\u001b[49m\u001b[43m,\u001b[49m\u001b[43m \u001b[49m\u001b[43mresponse\u001b[49m\u001b[43m)\u001b[49m\n\u001b[32m    523\u001b[39m \u001b[38;5;28;01mreturn\u001b[39;00m response\n",
      "\u001b[36mFile \u001b[39m\u001b[32m~/.conda/envs/sc-env4/lib/python3.12/urllib/request.py:630\u001b[39m, in \u001b[36mHTTPErrorProcessor.http_response\u001b[39m\u001b[34m(self, request, response)\u001b[39m\n\u001b[32m    627\u001b[39m \u001b[38;5;66;03m# According to RFC 2616, \"2xx\" code indicates that the client's\u001b[39;00m\n\u001b[32m    628\u001b[39m \u001b[38;5;66;03m# request was successfully received, understood, and accepted.\u001b[39;00m\n\u001b[32m    629\u001b[39m \u001b[38;5;28;01mif\u001b[39;00m \u001b[38;5;129;01mnot\u001b[39;00m (\u001b[32m200\u001b[39m <= code < \u001b[32m300\u001b[39m):\n\u001b[32m--> \u001b[39m\u001b[32m630\u001b[39m     response = \u001b[38;5;28;43mself\u001b[39;49m\u001b[43m.\u001b[49m\u001b[43mparent\u001b[49m\u001b[43m.\u001b[49m\u001b[43merror\u001b[49m\u001b[43m(\u001b[49m\n\u001b[32m    631\u001b[39m \u001b[43m        \u001b[49m\u001b[33;43m'\u001b[39;49m\u001b[33;43mhttp\u001b[39;49m\u001b[33;43m'\u001b[39;49m\u001b[43m,\u001b[49m\u001b[43m \u001b[49m\u001b[43mrequest\u001b[49m\u001b[43m,\u001b[49m\u001b[43m \u001b[49m\u001b[43mresponse\u001b[49m\u001b[43m,\u001b[49m\u001b[43m \u001b[49m\u001b[43mcode\u001b[49m\u001b[43m,\u001b[49m\u001b[43m \u001b[49m\u001b[43mmsg\u001b[49m\u001b[43m,\u001b[49m\u001b[43m \u001b[49m\u001b[43mhdrs\u001b[49m\u001b[43m)\u001b[49m\n\u001b[32m    633\u001b[39m \u001b[38;5;28;01mreturn\u001b[39;00m response\n",
      "\u001b[36mFile \u001b[39m\u001b[32m~/.conda/envs/sc-env4/lib/python3.12/urllib/request.py:559\u001b[39m, in \u001b[36mOpenerDirector.error\u001b[39m\u001b[34m(self, proto, *args)\u001b[39m\n\u001b[32m    557\u001b[39m \u001b[38;5;28;01mif\u001b[39;00m http_err:\n\u001b[32m    558\u001b[39m     args = (\u001b[38;5;28mdict\u001b[39m, \u001b[33m'\u001b[39m\u001b[33mdefault\u001b[39m\u001b[33m'\u001b[39m, \u001b[33m'\u001b[39m\u001b[33mhttp_error_default\u001b[39m\u001b[33m'\u001b[39m) + orig_args\n\u001b[32m--> \u001b[39m\u001b[32m559\u001b[39m     \u001b[38;5;28;01mreturn\u001b[39;00m \u001b[38;5;28;43mself\u001b[39;49m\u001b[43m.\u001b[49m\u001b[43m_call_chain\u001b[49m\u001b[43m(\u001b[49m\u001b[43m*\u001b[49m\u001b[43margs\u001b[49m\u001b[43m)\u001b[49m\n",
      "\u001b[36mFile \u001b[39m\u001b[32m~/.conda/envs/sc-env4/lib/python3.12/urllib/request.py:492\u001b[39m, in \u001b[36mOpenerDirector._call_chain\u001b[39m\u001b[34m(self, chain, kind, meth_name, *args)\u001b[39m\n\u001b[32m    490\u001b[39m \u001b[38;5;28;01mfor\u001b[39;00m handler \u001b[38;5;129;01min\u001b[39;00m handlers:\n\u001b[32m    491\u001b[39m     func = \u001b[38;5;28mgetattr\u001b[39m(handler, meth_name)\n\u001b[32m--> \u001b[39m\u001b[32m492\u001b[39m     result = \u001b[43mfunc\u001b[49m\u001b[43m(\u001b[49m\u001b[43m*\u001b[49m\u001b[43margs\u001b[49m\u001b[43m)\u001b[49m\n\u001b[32m    493\u001b[39m     \u001b[38;5;28;01mif\u001b[39;00m result \u001b[38;5;129;01mis\u001b[39;00m \u001b[38;5;129;01mnot\u001b[39;00m \u001b[38;5;28;01mNone\u001b[39;00m:\n\u001b[32m    494\u001b[39m         \u001b[38;5;28;01mreturn\u001b[39;00m result\n",
      "\u001b[36mFile \u001b[39m\u001b[32m~/.conda/envs/sc-env4/lib/python3.12/urllib/request.py:639\u001b[39m, in \u001b[36mHTTPDefaultErrorHandler.http_error_default\u001b[39m\u001b[34m(self, req, fp, code, msg, hdrs)\u001b[39m\n\u001b[32m    638\u001b[39m \u001b[38;5;28;01mdef\u001b[39;00m\u001b[38;5;250m \u001b[39m\u001b[34mhttp_error_default\u001b[39m(\u001b[38;5;28mself\u001b[39m, req, fp, code, msg, hdrs):\n\u001b[32m--> \u001b[39m\u001b[32m639\u001b[39m     \u001b[38;5;28;01mraise\u001b[39;00m HTTPError(req.full_url, code, msg, hdrs, fp)\n",
      "\u001b[31mHTTPError\u001b[39m: HTTP Error 404: Not Found"
     ]
    }
   ],
   "source": [
    "url = \"https://ndownloader.figshare.com/files/43566496\"  # CRISPR gene effect (DepMap 24Q2)\n",
    "depmap = pd.read_csv(url)"
   ]
  },
  {
   "cell_type": "code",
   "execution_count": null,
   "metadata": {},
   "outputs": [],
   "source": []
  }
 ],
 "metadata": {
  "kernelspec": {
   "display_name": "sc-env4",
   "language": "python",
   "name": "python3"
  },
  "language_info": {
   "codemirror_mode": {
    "name": "ipython",
    "version": 3
   },
   "file_extension": ".py",
   "mimetype": "text/x-python",
   "name": "python",
   "nbconvert_exporter": "python",
   "pygments_lexer": "ipython3",
   "version": "3.12.9"
  }
 },
 "nbformat": 4,
 "nbformat_minor": 2
}
